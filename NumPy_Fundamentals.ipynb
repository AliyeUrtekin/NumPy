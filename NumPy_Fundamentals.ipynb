{
 "cells": [
  {
   "cell_type": "markdown",
   "id": "58e6fe0c",
   "metadata": {},
   "source": [
    "# NumPy Fundamentals"
   ]
  },
  {
   "cell_type": "markdown",
   "id": "cbfd0482",
   "metadata": {},
   "source": [
    "These documents clarify concepts, design decisions, and technical constraints in NumPy. This is a great place to understand the fundamental NumPy ideas and philosophy."
   ]
  },
  {
   "cell_type": "markdown",
   "id": "7a0d2f01",
   "metadata": {},
   "source": [
    "## 1. Array Creation\n",
    "\n",
    "See also  \n",
    "Array creation routines\n",
    "\n",
    "**Introduction**\n",
    "\n",
    "There are 6 general mechanisms for creating arrays:\n",
    "\n",
    "1. Conversion from other Python structures (i.e. lists and tuples)\n",
    "\n",
    "2. Intrinsic NumPy array creation functions (e.g. arange, ones, zeros, etc.)\n",
    "\n",
    "3. Replicating, joining, or mutating existing arrays\n",
    "\n",
    "4. Reading arrays from disk, either from standard or custom formats\n",
    "\n",
    "5. Creating arrays from raw bytes through the use of strings or buffers\n",
    "\n",
    "6. Use of special library functions (e.g., random)\n",
    "\n",
    "You can use these methods to create ndarrays or Structured arrays. This document will cover general methods for ndarray creation.\n",
    "\n",
    "### 1.1. Converting Python sequences to NumPy Arrays\n",
    "\n",
    "NumPy arrays can be defined using Python sequences such as lists and tuples. Lists and tuples are defined using [...] and (...), respectively. Lists and tuples can define ndarray creation:\n",
    "\n",
    "- a list of numbers will create a 1D array,\n",
    "- a list of lists will create a 2D array,\n",
    "- further nested lists will create higher-dimensional arrays. In general, any array object is called an ndarray in NumPy."
   ]
  },
  {
   "cell_type": "code",
   "execution_count": 1,
   "id": "67328e3c",
   "metadata": {},
   "outputs": [],
   "source": [
    "import numpy as np"
   ]
  },
  {
   "cell_type": "code",
   "execution_count": 3,
   "id": "79b3d100",
   "metadata": {},
   "outputs": [],
   "source": [
    "a1D = np.array([1,2,3,4])\n",
    "a2D = np.array([[1,2], [3,4]])\n",
    "a3D = np.array([[[1,2], [3,4]], [[5,6], [7,8]]])"
   ]
  },
  {
   "cell_type": "markdown",
   "id": "595480a4",
   "metadata": {},
   "source": [
    "When you use numpy.array to define a new array, you should consider the dtype of the elements in the array, which can be specified explicitly. This feature gives you more control over the underlying data structures and how the elements are handled in C/C++ functions. If you are not careful with dtype assignments, you can get unwanted overflow, as such"
   ]
  },
  {
   "cell_type": "code",
   "execution_count": 4,
   "id": "3a43de8c",
   "metadata": {},
   "outputs": [
    {
     "name": "stderr",
     "output_type": "stream",
     "text": [
      "C:\\Users\\Aliye\\AppData\\Local\\Temp\\ipykernel_15788\\2453871658.py:1: DeprecationWarning: NumPy will stop allowing conversion of out-of-bound Python integers to integer arrays.  The conversion of 128 to int8 will fail in the future.\n",
      "For the old behavior, usually:\n",
      "    np.array(value).astype(dtype)`\n",
      "will give the desired result (the cast overflows).\n",
      "  a = np.array([127,128,129], dtype = np.int8)\n",
      "C:\\Users\\Aliye\\AppData\\Local\\Temp\\ipykernel_15788\\2453871658.py:1: DeprecationWarning: NumPy will stop allowing conversion of out-of-bound Python integers to integer arrays.  The conversion of 129 to int8 will fail in the future.\n",
      "For the old behavior, usually:\n",
      "    np.array(value).astype(dtype)`\n",
      "will give the desired result (the cast overflows).\n",
      "  a = np.array([127,128,129], dtype = np.int8)\n"
     ]
    },
    {
     "data": {
      "text/plain": [
       "array([ 127, -128, -127], dtype=int8)"
      ]
     },
     "execution_count": 4,
     "metadata": {},
     "output_type": "execute_result"
    }
   ],
   "source": [
    "a = np.array([127,128,129], dtype = np.int8)\n",
    "a"
   ]
  },
  {
   "cell_type": "markdown",
   "id": "806aa7c4",
   "metadata": {},
   "source": [
    "An 8-bit signed integer represents integers from -128 to 127. Assigning the int8 array to integers outside of this range results in overflow. This feature can often be misunderstood. If you perform calculations with mismatching dtypes, you can get unwanted results, for example:"
   ]
  },
  {
   "cell_type": "code",
   "execution_count": 5,
   "id": "4e8655ff",
   "metadata": {},
   "outputs": [
    {
     "name": "stdout",
     "output_type": "stream",
     "text": [
      "unsigned c: [4294967293 4294967293 4294967293] uint32\n"
     ]
    }
   ],
   "source": [
    "a = np.array([2,3,4], dtype = np.uint32)\n",
    "b = np.array([5,6,7], dtype = np.uint32)\n",
    "c_unsigned32 = a - b\n",
    "print('unsigned c:', c_unsigned32, c_unsigned32.dtype)"
   ]
  },
  {
   "cell_type": "code",
   "execution_count": 6,
   "id": "6e6fada7",
   "metadata": {},
   "outputs": [
    {
     "name": "stdout",
     "output_type": "stream",
     "text": [
      "signed c: [-3 -3 -3] int64\n"
     ]
    }
   ],
   "source": [
    "c_signed32 = a - b.astype(np.int32)\n",
    "print('signed c:', c_signed32, c_signed32.dtype)"
   ]
  },
  {
   "cell_type": "markdown",
   "id": "8f2fb233",
   "metadata": {},
   "source": [
    "Notice when you perform operations with two arrays of the same dtype: uint32, the resulting array is the same type. When you perform operations with different dtype, NumPy will assign a new type that satisfies all of the array elements involved in the computation, here uint32 and int32 can both be represented in as int64.\n",
    "\n",
    "The default NumPy behavior is to create arrays in either 32 or 64-bit signed integers (platform dependent and matches C long size) or double precision floating point numbers. If you expect your integer arrays to be a specific type, then you need to specify the dtype while you create the array."
   ]
  },
  {
   "cell_type": "markdown",
   "id": "d619e096",
   "metadata": {},
   "source": [
    "### 1.2. Intrinsic NumPy array creation functions\n",
    "\n",
    "NumPy has over 40 built-in functions for creating arrays as laid out in the Array creation routines. These functions can be split into roughly three categories, based on the dimension of the array they create:\n",
    "\n",
    "1. 1D arrays\n",
    "2. 2D arrays\n",
    "3. ndarrays\n",
    "\n",
    "**1D array creation functions**\n",
    "\n",
    "The 1D array creation functions e.g. numpy.linspace and numpy.arange generally need at least two inputs, start and stop.\n",
    "\n",
    "**numpy.arange** creates arrays with regularly incrementing values. Check the documentation for complete information and examples. A few examples are shown:"
   ]
  },
  {
   "cell_type": "code",
   "execution_count": 7,
   "id": "96d8f48d",
   "metadata": {},
   "outputs": [
    {
     "data": {
      "text/plain": [
       "array([0, 1, 2, 3, 4, 5, 6, 7, 8, 9])"
      ]
     },
     "execution_count": 7,
     "metadata": {},
     "output_type": "execute_result"
    }
   ],
   "source": [
    "np.arange(10)"
   ]
  },
  {
   "cell_type": "code",
   "execution_count": 8,
   "id": "d4aa8d5b",
   "metadata": {},
   "outputs": [
    {
     "data": {
      "text/plain": [
       "array([2., 3., 4., 5., 6., 7., 8., 9.])"
      ]
     },
     "execution_count": 8,
     "metadata": {},
     "output_type": "execute_result"
    }
   ],
   "source": [
    "np.arange(2,10,dtype = float)"
   ]
  },
  {
   "cell_type": "code",
   "execution_count": 9,
   "id": "da74b0e4",
   "metadata": {},
   "outputs": [
    {
     "data": {
      "text/plain": [
       "array([2. , 2.1, 2.2, 2.3, 2.4, 2.5, 2.6, 2.7, 2.8, 2.9])"
      ]
     },
     "execution_count": 9,
     "metadata": {},
     "output_type": "execute_result"
    }
   ],
   "source": [
    "np.arange(2,3,0.1)"
   ]
  },
  {
   "cell_type": "markdown",
   "id": "d561fac6",
   "metadata": {},
   "source": [
    "Note: best practice for numpy.arange is to use integer start, end, and step values. There are some subtleties regarding dtype. In the second example, the dtype is defined. In the third example, the array is dtype=float to accommodate the step size of 0.1. Due to roundoff error, the stop value is sometimes included.\n",
    "\n",
    "numpy.linspace will create arrays with a specified number of elements, and spaced equally between the specified beginning and end values. For example:"
   ]
  },
  {
   "cell_type": "code",
   "execution_count": 10,
   "id": "a1d1c108",
   "metadata": {},
   "outputs": [
    {
     "data": {
      "text/plain": [
       "array([1. , 1.6, 2.2, 2.8, 3.4, 4. ])"
      ]
     },
     "execution_count": 10,
     "metadata": {},
     "output_type": "execute_result"
    }
   ],
   "source": [
    "np.linspace(1.,4.,6)"
   ]
  },
  {
   "cell_type": "markdown",
   "id": "2017f519",
   "metadata": {},
   "source": [
    "The advantage of this creation function is that you guarantee the number of elements and the starting and end point. The previous arange(start, stop, step) will not include the value stop."
   ]
  },
  {
   "cell_type": "markdown",
   "id": "d2825fd0",
   "metadata": {},
   "source": [
    "**2D array creation functions**\n",
    "\n",
    "The 2D array creation functions e.g. numpy.eye, numpy.diag, and numpy.vander define properties of special matrices represented as 2D arrays.\n",
    "\n",
    "np.eye(n, m) defines a 2D identity matrix. The elements where i=j (row index and column index are equal) are 1 and the rest are 0, as such:"
   ]
  },
  {
   "cell_type": "code",
   "execution_count": 11,
   "id": "be161ef6",
   "metadata": {},
   "outputs": [
    {
     "data": {
      "text/plain": [
       "array([[1., 0., 0.],\n",
       "       [0., 1., 0.],\n",
       "       [0., 0., 1.]])"
      ]
     },
     "execution_count": 11,
     "metadata": {},
     "output_type": "execute_result"
    }
   ],
   "source": [
    "np.eye(3)"
   ]
  },
  {
   "cell_type": "code",
   "execution_count": 12,
   "id": "6579a319",
   "metadata": {},
   "outputs": [
    {
     "data": {
      "text/plain": [
       "array([[1., 0., 0., 0., 0.],\n",
       "       [0., 1., 0., 0., 0.],\n",
       "       [0., 0., 1., 0., 0.]])"
      ]
     },
     "execution_count": 12,
     "metadata": {},
     "output_type": "execute_result"
    }
   ],
   "source": [
    "np.eye(3,5)"
   ]
  },
  {
   "cell_type": "markdown",
   "id": "860715f1",
   "metadata": {},
   "source": [
    "**numpy.diag** can define either a square 2D array with given values along the diagonal or if given a 2D array returns a 1D array that is only the diagonal elements. The two array creation functions can be helpful while doing linear algebra, as such:"
   ]
  },
  {
   "cell_type": "code",
   "execution_count": 13,
   "id": "48449fd8",
   "metadata": {},
   "outputs": [
    {
     "data": {
      "text/plain": [
       "array([[1, 0, 0],\n",
       "       [0, 2, 0],\n",
       "       [0, 0, 3]])"
      ]
     },
     "execution_count": 13,
     "metadata": {},
     "output_type": "execute_result"
    }
   ],
   "source": [
    "np.diag([1,2,3])"
   ]
  },
  {
   "cell_type": "code",
   "execution_count": 14,
   "id": "55594b5f",
   "metadata": {},
   "outputs": [
    {
     "data": {
      "text/plain": [
       "array([[0, 1, 0, 0],\n",
       "       [0, 0, 2, 0],\n",
       "       [0, 0, 0, 3],\n",
       "       [0, 0, 0, 0]])"
      ]
     },
     "execution_count": 14,
     "metadata": {},
     "output_type": "execute_result"
    }
   ],
   "source": [
    "np.diag([1,2,3],1)"
   ]
  },
  {
   "cell_type": "code",
   "execution_count": 15,
   "id": "c47ff8a6",
   "metadata": {},
   "outputs": [
    {
     "data": {
      "text/plain": [
       "array([1, 4])"
      ]
     },
     "execution_count": 15,
     "metadata": {},
     "output_type": "execute_result"
    }
   ],
   "source": [
    "a = np.array([[1,2],[3,4]])\n",
    "np.diag(a)"
   ]
  },
  {
   "cell_type": "markdown",
   "id": "3b986fc5",
   "metadata": {},
   "source": [
    "vander(x, n) defines a Vandermonde matrix as a 2D NumPy array. Each column of the Vandermonde matrix is a decreasing power of the input 1D array or list or tuple, x where the highest polynomial order is n-1. This array creation routine is helpful in generating linear least squares models, as such:"
   ]
  },
  {
   "cell_type": "code",
   "execution_count": 16,
   "id": "95c90ab2",
   "metadata": {},
   "outputs": [
    {
     "data": {
      "text/plain": [
       "array([[0. , 1. ],\n",
       "       [0.5, 1. ],\n",
       "       [1. , 1. ],\n",
       "       [1.5, 1. ],\n",
       "       [2. , 1. ]])"
      ]
     },
     "execution_count": 16,
     "metadata": {},
     "output_type": "execute_result"
    }
   ],
   "source": [
    "np.vander(np.linspace(0,2,5), 2)"
   ]
  },
  {
   "cell_type": "code",
   "execution_count": 17,
   "id": "d3220fc2",
   "metadata": {},
   "outputs": [
    {
     "data": {
      "text/plain": [
       "array([[1, 1],\n",
       "       [2, 1],\n",
       "       [3, 1],\n",
       "       [4, 1]])"
      ]
     },
     "execution_count": 17,
     "metadata": {},
     "output_type": "execute_result"
    }
   ],
   "source": [
    "np.vander([1,2,3,4], 2)"
   ]
  },
  {
   "cell_type": "code",
   "execution_count": 18,
   "id": "9c8789c7",
   "metadata": {},
   "outputs": [
    {
     "data": {
      "text/plain": [
       "array([[ 1,  1,  1,  1],\n",
       "       [ 8,  4,  2,  1],\n",
       "       [27,  9,  3,  1],\n",
       "       [64, 16,  4,  1]])"
      ]
     },
     "execution_count": 18,
     "metadata": {},
     "output_type": "execute_result"
    }
   ],
   "source": [
    "np.vander((1,2,3,4),4)"
   ]
  },
  {
   "cell_type": "markdown",
   "id": "0007dbad",
   "metadata": {},
   "source": [
    "**general ndarray creation functions**\n",
    "\n",
    "The ndarray creation functions e.g. numpy.ones, numpy.zeros, and random define arrays based upon the desired shape. The ndarray creation functions can create arrays with any dimension by specifying how many dimensions and length along that dimension in a tuple or list.\n",
    "\n",
    "numpy.zeros will create an array filled with 0 values with the specified shape. The default dtype is float64:"
   ]
  },
  {
   "cell_type": "code",
   "execution_count": 19,
   "id": "df86481d",
   "metadata": {},
   "outputs": [
    {
     "data": {
      "text/plain": [
       "array([[0., 0., 0.],\n",
       "       [0., 0., 0.]])"
      ]
     },
     "execution_count": 19,
     "metadata": {},
     "output_type": "execute_result"
    }
   ],
   "source": [
    "np.zeros((2,3))"
   ]
  },
  {
   "cell_type": "code",
   "execution_count": 20,
   "id": "3ab6cd3d",
   "metadata": {},
   "outputs": [
    {
     "data": {
      "text/plain": [
       "array([[[0., 0.],\n",
       "        [0., 0.],\n",
       "        [0., 0.]],\n",
       "\n",
       "       [[0., 0.],\n",
       "        [0., 0.],\n",
       "        [0., 0.]]])"
      ]
     },
     "execution_count": 20,
     "metadata": {},
     "output_type": "execute_result"
    }
   ],
   "source": [
    "np.zeros((2,3,2))"
   ]
  },
  {
   "cell_type": "markdown",
   "id": "d2c97896",
   "metadata": {},
   "source": [
    "**numpy.ones** will create an array filled with 1 values. It is identical to zeros in all other respects as such:"
   ]
  },
  {
   "cell_type": "code",
   "execution_count": 21,
   "id": "f00d68a8",
   "metadata": {},
   "outputs": [
    {
     "data": {
      "text/plain": [
       "array([[1., 1., 1.],\n",
       "       [1., 1., 1.]])"
      ]
     },
     "execution_count": 21,
     "metadata": {},
     "output_type": "execute_result"
    }
   ],
   "source": [
    "np.ones((2,3))"
   ]
  },
  {
   "cell_type": "code",
   "execution_count": 22,
   "id": "45c3d1fd",
   "metadata": {},
   "outputs": [
    {
     "data": {
      "text/plain": [
       "array([[[1., 1.],\n",
       "        [1., 1.],\n",
       "        [1., 1.]],\n",
       "\n",
       "       [[1., 1.],\n",
       "        [1., 1.],\n",
       "        [1., 1.]]])"
      ]
     },
     "execution_count": 22,
     "metadata": {},
     "output_type": "execute_result"
    }
   ],
   "source": [
    "np.ones((2,3,2))"
   ]
  },
  {
   "cell_type": "markdown",
   "id": "5a89ea90",
   "metadata": {},
   "source": [
    "The random method of the result of default_rng will create an array filled with random values between 0 and 1. It is included with the numpy.random library. Below, two arrays are created with shapes (2,3) and (2,3,2), respectively. The seed is set to 42 so you can reproduce these pseudorandom numbers:"
   ]
  },
  {
   "cell_type": "code",
   "execution_count": 25,
   "id": "427132d6",
   "metadata": {},
   "outputs": [
    {
     "data": {
      "text/plain": [
       "array([[0.77395605, 0.43887844, 0.85859792],\n",
       "       [0.69736803, 0.09417735, 0.97562235]])"
      ]
     },
     "execution_count": 25,
     "metadata": {},
     "output_type": "execute_result"
    }
   ],
   "source": [
    "from numpy.random import default_rng\n",
    "default_rng(42).random((2,3))"
   ]
  },
  {
   "cell_type": "code",
   "execution_count": 26,
   "id": "614fee27",
   "metadata": {},
   "outputs": [
    {
     "data": {
      "text/plain": [
       "array([[[0.77395605, 0.43887844],\n",
       "        [0.85859792, 0.69736803],\n",
       "        [0.09417735, 0.97562235]],\n",
       "\n",
       "       [[0.7611397 , 0.78606431],\n",
       "        [0.12811363, 0.45038594],\n",
       "        [0.37079802, 0.92676499]]])"
      ]
     },
     "execution_count": 26,
     "metadata": {},
     "output_type": "execute_result"
    }
   ],
   "source": [
    "default_rng(42).random((2,3,2))"
   ]
  },
  {
   "cell_type": "markdown",
   "id": "76a207cf",
   "metadata": {},
   "source": [
    "numpy.indices will create a set of arrays (stacked as a one-higher dimensioned array), one per dimension with each representing variation in that dimension:"
   ]
  },
  {
   "cell_type": "code",
   "execution_count": 27,
   "id": "78477e1e",
   "metadata": {},
   "outputs": [
    {
     "data": {
      "text/plain": [
       "array([[[0, 0, 0],\n",
       "        [1, 1, 1],\n",
       "        [2, 2, 2]],\n",
       "\n",
       "       [[0, 1, 2],\n",
       "        [0, 1, 2],\n",
       "        [0, 1, 2]]])"
      ]
     },
     "execution_count": 27,
     "metadata": {},
     "output_type": "execute_result"
    }
   ],
   "source": [
    "np.indices((3,3))"
   ]
  },
  {
   "cell_type": "markdown",
   "id": "82378363",
   "metadata": {},
   "source": [
    "This is particularly useful for evaluating functions of multiple dimensions on a regular grid."
   ]
  },
  {
   "cell_type": "markdown",
   "id": "f81d7302",
   "metadata": {},
   "source": [
    "### 1.3. Replicating, joining, or mutating existing arrays\n",
    "\n",
    "Once you have created arrays, you can replicate, join, or mutate those existing arrays to create new arrays. When you assign an array or its elements to a new variable, you have to explicitly numpy.copy the array, otherwise the variable is a view into the original array. Consider the following example:"
   ]
  },
  {
   "cell_type": "code",
   "execution_count": 28,
   "id": "7b038d8a",
   "metadata": {},
   "outputs": [
    {
     "name": "stdout",
     "output_type": "stream",
     "text": [
      "a = [2 3 3 4 5 6] ; b = [2 3]\n"
     ]
    }
   ],
   "source": [
    "a = np.array([1,2,3,4,5,6])\n",
    "b = a[:2]\n",
    "b +=1\n",
    "print('a =', a, '; b =', b)"
   ]
  },
  {
   "cell_type": "markdown",
   "id": "744f928c",
   "metadata": {},
   "source": [
    "In this example, you did not create a new array. You created a variable, b that viewed the first 2 elements of a. When you added 1 to b you would get the same result by adding 1 to a[:2]. If you want to create a new array, use the **numpy.copy** array creation routine as such:"
   ]
  },
  {
   "cell_type": "code",
   "execution_count": 29,
   "id": "14a58291",
   "metadata": {},
   "outputs": [
    {
     "name": "stdout",
     "output_type": "stream",
     "text": [
      "a =  [1 2 3 4] b =  [2 3]\n"
     ]
    }
   ],
   "source": [
    "a = np.array([1,2,3,4])\n",
    "b = a[:2].copy()\n",
    "b +=1\n",
    "print('a = ', a, 'b = ', b)"
   ]
  },
  {
   "cell_type": "markdown",
   "id": "0a555f40",
   "metadata": {},
   "source": [
    "For more information and examples look at Copies and Views.\n",
    "\n",
    "There are a number of routines to join existing arrays e.g. numpy.vstack, numpy.hstack, and numpy.block. Here is an example of joining four 2-by-2 arrays into a 4-by-4 array using block:"
   ]
  },
  {
   "cell_type": "code",
   "execution_count": 30,
   "id": "69a0ea61",
   "metadata": {},
   "outputs": [
    {
     "data": {
      "text/plain": [
       "array([[ 1.,  1.,  1.,  0.],\n",
       "       [ 1.,  1.,  0.,  1.],\n",
       "       [ 0.,  0., -3.,  0.],\n",
       "       [ 0.,  0.,  0., -4.]])"
      ]
     },
     "execution_count": 30,
     "metadata": {},
     "output_type": "execute_result"
    }
   ],
   "source": [
    "A = np.ones((2,2))\n",
    "B = np.eye(2,2)\n",
    "C = np.zeros((2,2))\n",
    "D = np.diag((-3, -4))\n",
    "np.block([[A,B], [C,D]])"
   ]
  },
  {
   "cell_type": "markdown",
   "id": "c35154e9",
   "metadata": {},
   "source": [
    "Other routines use similar syntax to join ndarrays. Check the routine’s documentation for further examples and syntax."
   ]
  },
  {
   "cell_type": "markdown",
   "id": "9fd57272",
   "metadata": {},
   "source": [
    "### 1.4. Reading arrays from disk, either from standard or custom formats\n",
    "\n",
    "This is the most common case of large array creation. The details depend greatly on the format of data on disk. This section gives general pointers on how to handle various formats. For more detailed examples of IO look at How to Read and Write files.\n",
    "\n",
    "**Standard Binary Formats**\n",
    "\n",
    "Various fields have standard formats for array data. The following lists the ones with known Python libraries to read them and return NumPy arrays (there may be others for which it is possible to read and convert to NumPy arrays so check the last section as well)\n",
    "\n",
    "<code>\n",
    "    HDF5: h5py\n",
    "    FITS: Astropy\n",
    "</code>\n",
    "\n",
    "Examples of formats that cannot be read directly but for which it is not hard to convert are those formats supported by libraries like PIL (able to read and write many image formats such as jpg, png, etc).\n",
    "\n",
    "**Common ASCII Formats**\n",
    "\n",
    "Delimited files such as comma separated value (csv) and tab separated value (tsv) files are used for programs like Excel and LabView. Python functions can read and parse these files line-by-line. NumPy has two standard routines for importing a file with delimited data numpy.loadtxt and numpy.genfromtxt. These functions have more involved use cases in Reading and writing files. A simple example given a simple.csv:\n",
    "\n",
    "<code>\n",
    "    $ cat simple.csv\n",
    "    x, y\n",
    "    0, 0\n",
    "    1, 1\n",
    "    2, 4\n",
    "    3, 9\n",
    "</code>\n",
    "\n",
    "\n",
    "Importing simple.csv is accomplished using numpy.loadtxt:"
   ]
  },
  {
   "cell_type": "code",
   "execution_count": null,
   "id": "765af748",
   "metadata": {},
   "outputs": [],
   "source": [
    "np.loadtxt('simple.csv', delimiter=',', skiprows=1)"
   ]
  },
  {
   "cell_type": "markdown",
   "id": "be401dcc",
   "metadata": {},
   "source": [
    "More generic ASCII files can be read using scipy.io and Pandas."
   ]
  },
  {
   "cell_type": "markdown",
   "id": "2cbe52d3",
   "metadata": {},
   "source": [
    "### 1.5. Use of special library functions (e.g., SciPy, Pandas, and OpenCV)\n",
    "\n",
    "NumPy is the fundamental library for array containers in the Python Scientific Computing stack. Many Python libraries, including SciPy, Pandas, and OpenCV, use NumPy ndarrays as the common format for data exchange, These libraries can create, operate on, and work with NumPy arrays."
   ]
  },
  {
   "cell_type": "markdown",
   "id": "a92173de",
   "metadata": {},
   "source": [
    "## 2. Indexing on ndarrays\n",
    "\n",
    "See alse : Indexing routines\n",
    "\n",
    "ndarrays can be indexed using the standard Python x[obj] syntax, where x is the array and obj the selection. There are different kinds of indexing available depending on obj: basic indexing, advanced indexing and field access.\n",
    "\n",
    "Most of the following examples show the use of indexing when referencing data in an array. The examples work just as well when assigning to an array. See Assigning values to indexed arrays for specific examples and explanations on how assignments work.\n",
    "\n",
    "Note that in Python, x[(exp1, exp2, ..., expN)] is equivalent to x[exp1, exp2, ..., expN]; the latter is just syntactic sugar for the former.\n",
    "\n",
    "### 2.1. Basic Indexing\n",
    "\n",
    "**Single element indexing**\n",
    "\n",
    "Single element indexing works exactly like that for other standard Python sequences. It is 0-based, and accepts negative indices for indexing from the end of the array."
   ]
  },
  {
   "cell_type": "code",
   "execution_count": 3,
   "id": "dacf7972",
   "metadata": {},
   "outputs": [
    {
     "data": {
      "text/plain": [
       "2"
      ]
     },
     "execution_count": 3,
     "metadata": {},
     "output_type": "execute_result"
    }
   ],
   "source": [
    "x = np.arange(10)\n",
    "x[2]"
   ]
  },
  {
   "cell_type": "code",
   "execution_count": 4,
   "id": "baefaf6b",
   "metadata": {},
   "outputs": [
    {
     "data": {
      "text/plain": [
       "8"
      ]
     },
     "execution_count": 4,
     "metadata": {},
     "output_type": "execute_result"
    }
   ],
   "source": [
    "x[-2]"
   ]
  },
  {
   "cell_type": "markdown",
   "id": "8a239231",
   "metadata": {},
   "source": [
    "It is not necessary to separate each dimension's index into its own set of square brackets."
   ]
  },
  {
   "cell_type": "code",
   "execution_count": 5,
   "id": "3dcb6e4d",
   "metadata": {},
   "outputs": [
    {
     "data": {
      "text/plain": [
       "8"
      ]
     },
     "execution_count": 5,
     "metadata": {},
     "output_type": "execute_result"
    }
   ],
   "source": [
    "x.shape=(2,5)     # now x is 2-dimensional\n",
    "x[1,3]"
   ]
  },
  {
   "cell_type": "code",
   "execution_count": 6,
   "id": "ba8b7bf5",
   "metadata": {},
   "outputs": [
    {
     "data": {
      "text/plain": [
       "9"
      ]
     },
     "execution_count": 6,
     "metadata": {},
     "output_type": "execute_result"
    }
   ],
   "source": [
    "x[1,-1]"
   ]
  },
  {
   "cell_type": "markdown",
   "id": "0b55df6c",
   "metadata": {},
   "source": [
    "Note that if one indexes a multidimensional array with fewer indices than dimensions, one gets a subdimensional array. For example:"
   ]
  },
  {
   "cell_type": "code",
   "execution_count": 7,
   "id": "8804d2ab",
   "metadata": {},
   "outputs": [
    {
     "data": {
      "text/plain": [
       "array([0, 1, 2, 3, 4])"
      ]
     },
     "execution_count": 7,
     "metadata": {},
     "output_type": "execute_result"
    }
   ],
   "source": [
    "x[0]"
   ]
  },
  {
   "cell_type": "markdown",
   "id": "f7ff18f5",
   "metadata": {},
   "source": [
    "That is, each index specified selects the array corresponding to the rest of the dimensions selected. In the above example, choosing 0 means that the remaining dimension of length 5 is being left unspecified, and that what is returned is an array of that dimensionality and size. It must be noted that the returned array is a view, i.e., it is not a copy of the original, but points to the same values in memory as does the original array. In this case, the 1-D array at the first position (0) is returned. So using a single index on the returned array, results in a single element being returned. That is:"
   ]
  },
  {
   "cell_type": "code",
   "execution_count": 8,
   "id": "0343102c",
   "metadata": {},
   "outputs": [
    {
     "data": {
      "text/plain": [
       "2"
      ]
     },
     "execution_count": 8,
     "metadata": {},
     "output_type": "execute_result"
    }
   ],
   "source": [
    "x[0][2]"
   ]
  },
  {
   "cell_type": "markdown",
   "id": "246175eb",
   "metadata": {},
   "source": [
    "So note that x[0, 2] == x[0][2] though the second case is more inefficient as a new temporary array is created after the first index that is subsequently indexed by 2.\n",
    "\n",
    "Note : NumPy uses C-order indexing. That means that the last index usually represents the most rapidly changing memory location, unlike Fortran or IDL, where the first index represents the most rapidly changing location in memory. This difference represents a great potential for confusion.\n",
    "\n",
    "**Slicing and striding**\n",
    "\n",
    "Basic slicing extends Python’s basic concept of slicing to N dimensions. Basic slicing occurs when obj is a slice object (constructed by start:stop:step notation inside of brackets), an integer, or a tuple of slice objects and integers. Ellipsis and newaxis objects can be interspersed with these as well.\n",
    "\n",
    "The simplest case of indexing with N integers returns an array scalar representing the corresponding item. As in Python, all indices are zero-based: for the i-th index ni, the valid range is 0 <=ni<di where di is the i-th element of the shape of the array. Negative indices are interpreted as counting from the end of the array (i.e., if ni<0, it means ni+di).\n",
    "\n",
    "All arrays generated by basic slicing are always views of the original array.\n",
    "\n",
    "Note : NumPy slicing creates a view instead of a copy as in the case of built-in Python sequences such as string, tuple and list. Care must be taken when extracting a small portion from a large array which becomes useless after the extraction, because the small portion extracted contains a reference to the large original array whose memory will not be released until all arrays derived from it are garbage-collected. In such cases an explicit copy() is recommended.\n",
    "\n",
    "The standard rules of sequence slicing apply to basic slicing on a per-dimension basis (including using a step index). Some useful concepts to remember include:\n",
    "\n",
    "- The basic slice syntax is i:j:k where i is the starting index, j is the stopping index, and k is the step (k != 0). This selects the m elements (in the corresponding dimension) with index values i, i + k, …, i + (m - 1) k where m = q + (r !=0) and q and r are the quotient and remainder obtained by dividing j - i by k: j - i = q k + r, so that i + (m - 1) k < j. For example:"
   ]
  },
  {
   "cell_type": "code",
   "execution_count": 9,
   "id": "b864f091",
   "metadata": {},
   "outputs": [
    {
     "data": {
      "text/plain": [
       "array([1, 3, 5])"
      ]
     },
     "execution_count": 9,
     "metadata": {},
     "output_type": "execute_result"
    }
   ],
   "source": [
    "x = np.array([0,1,2,3,4,5,6,7,8,9])\n",
    "x[1:7:2]"
   ]
  },
  {
   "cell_type": "markdown",
   "id": "4a074dce",
   "metadata": {},
   "source": [
    "- Negative i and j are interpreted as n + i and n + j where n is the number of elements in the corresponding dimension. Negative k makes stepping go towards smaller indices. From the above example:"
   ]
  },
  {
   "cell_type": "code",
   "execution_count": 10,
   "id": "832f1622",
   "metadata": {},
   "outputs": [
    {
     "data": {
      "text/plain": [
       "array([8, 9])"
      ]
     },
     "execution_count": 10,
     "metadata": {},
     "output_type": "execute_result"
    }
   ],
   "source": [
    "x[-2:10]"
   ]
  },
  {
   "cell_type": "code",
   "execution_count": 11,
   "id": "56f56fc3",
   "metadata": {},
   "outputs": [
    {
     "data": {
      "text/plain": [
       "array([7, 6, 5, 4])"
      ]
     },
     "execution_count": 11,
     "metadata": {},
     "output_type": "execute_result"
    }
   ],
   "source": [
    "x[-3:3:-1]"
   ]
  },
  {
   "cell_type": "markdown",
   "id": "49da00c3",
   "metadata": {},
   "source": [
    "- Assume n is the number of elements in the dimension being sliced. Then, if i is not given it defaults to 0 for k > 0 and n - 1 for k < 0 . If j is not given it defaults to n for k > 0 and -n-1 for k < 0 . If k is not given it defaults to 1. Note that :: is the same as : and means select all indices along this axis. From the above example:"
   ]
  },
  {
   "cell_type": "code",
   "execution_count": 12,
   "id": "f8966f07",
   "metadata": {},
   "outputs": [
    {
     "data": {
      "text/plain": [
       "array([5, 6, 7, 8, 9])"
      ]
     },
     "execution_count": 12,
     "metadata": {},
     "output_type": "execute_result"
    }
   ],
   "source": [
    "x[5:]"
   ]
  },
  {
   "cell_type": "markdown",
   "id": "04c85176",
   "metadata": {},
   "source": [
    "- If the number of objects in the selection tuple is less than N, then : is assumed for any subsequent dimensions. For example:"
   ]
  },
  {
   "cell_type": "code",
   "execution_count": 3,
   "id": "6e2aae45",
   "metadata": {},
   "outputs": [
    {
     "data": {
      "text/plain": [
       "(2, 3, 1)"
      ]
     },
     "execution_count": 3,
     "metadata": {},
     "output_type": "execute_result"
    }
   ],
   "source": [
    "x = np.array([[[1],[2],[3]], [[4],[5],[6]]])\n",
    "x.shape"
   ]
  },
  {
   "cell_type": "code",
   "execution_count": 4,
   "id": "594d139c",
   "metadata": {},
   "outputs": [
    {
     "data": {
      "text/plain": [
       "array([[[4],\n",
       "        [5],\n",
       "        [6]]])"
      ]
     },
     "execution_count": 4,
     "metadata": {},
     "output_type": "execute_result"
    }
   ],
   "source": [
    "x[1:2]"
   ]
  },
  {
   "cell_type": "markdown",
   "id": "7d978dd7",
   "metadata": {},
   "source": [
    "- An integer, i, returns the same values as i:i+1 except the dimensionality of the returned object is reduced by 1. In particular, a selection tuple with the p-th element an integer (and all other entries :) returns the corresponding sub-array with dimension N - 1. If N = 1 then the returned object is an array scalar. These objects are explained in Scalars.\n",
    "\n",
    "- If the selection tuple has all entries : except the p-th entry which is a slice object i:j:k, then the returned array has dimension N formed by concatenating the sub-arrays returned by integer indexing of elements i, i+k, …, i + (m - 1) k < j,\n",
    "\n",
    "- Basic slicing with more than one non-: entry in the slicing tuple, acts like repeated application of slicing using a single non-: entry, where the non-: entries are successively taken (with all other non-: entries replaced by :). Thus, x[ind1, ..., ind2,:] acts like x[ind1][..., ind2, :] under basic slicing.\n",
    "\n",
    "Warning : The above is not true for advanced indexing.\n",
    "\n",
    "- You may use slicing to set values in the array, but (unlike lists) you can never grow the array. The size of the value to be set in x[obj] = value must be (broadcastable to) the same shape as x[obj].\n",
    "\n",
    "- A slicing tuple can always be constructed as obj and used in the x[obj] notation. Slice objects can be used in the construction in place of the [start:stop:step] notation. For example, x[1:10:5, ::-1] can also be implemented as obj = (slice(1, 10, 5), slice(None, None, -1)); x[obj] . This can be useful for constructing generic code that works on arrays of arbitrary dimensions. See Dealing with variable numbers of indices within programs for more information."
   ]
  },
  {
   "cell_type": "markdown",
   "id": "d85c4ca9",
   "metadata": {},
   "source": [
    "**Dimensional indexing tools**\n",
    "\n",
    "There are some tools to facilitate the easy matching of array shapes with expressions and in assignments.\n",
    "\n",
    "Ellipsis expands to the number of : objects needed for the selection tuple to index all dimensions. In most cases, this means that the length of the expanded selection tuple is x.ndim. There may only be a single ellipsis present. From the above example:"
   ]
  },
  {
   "cell_type": "code",
   "execution_count": 5,
   "id": "7f371e93",
   "metadata": {},
   "outputs": [
    {
     "data": {
      "text/plain": [
       "array([[1, 2, 3],\n",
       "       [4, 5, 6]])"
      ]
     },
     "execution_count": 5,
     "metadata": {},
     "output_type": "execute_result"
    }
   ],
   "source": [
    "x[...,0]"
   ]
  },
  {
   "cell_type": "code",
   "execution_count": 7,
   "id": "e9c0b301",
   "metadata": {},
   "outputs": [
    {
     "data": {
      "text/plain": [
       "array([[1, 2, 3],\n",
       "       [4, 5, 6]])"
      ]
     },
     "execution_count": 7,
     "metadata": {},
     "output_type": "execute_result"
    }
   ],
   "source": [
    "# This is equivalent to:\n",
    "x[:,:,0]"
   ]
  },
  {
   "cell_type": "markdown",
   "id": "dbf66817",
   "metadata": {},
   "source": [
    "Each newaxis object in the selection tuple serves to expand the dimensions of the resulting selection by one unit-length dimension. The added dimension is the position of the newaxis object in the selection tuple. newaxis is an alias for None, and None can be used in place of this with the same result. From the above example:"
   ]
  },
  {
   "cell_type": "code",
   "execution_count": 8,
   "id": "d6aa6a15",
   "metadata": {},
   "outputs": [
    {
     "data": {
      "text/plain": [
       "(2, 1, 3, 1)"
      ]
     },
     "execution_count": 8,
     "metadata": {},
     "output_type": "execute_result"
    }
   ],
   "source": [
    "x[:,np.newaxis, :, :].shape"
   ]
  },
  {
   "cell_type": "code",
   "execution_count": 9,
   "id": "03a62551",
   "metadata": {},
   "outputs": [
    {
     "data": {
      "text/plain": [
       "(2, 1, 3, 1)"
      ]
     },
     "execution_count": 9,
     "metadata": {},
     "output_type": "execute_result"
    }
   ],
   "source": [
    "x[:,None,:,:].shape"
   ]
  },
  {
   "cell_type": "markdown",
   "id": "f86a29d9",
   "metadata": {},
   "source": [
    "This can be handy to combine two arrays in a way that otherwise would require explicit reshaping operations. For example:"
   ]
  },
  {
   "cell_type": "code",
   "execution_count": 10,
   "id": "fd59cb88",
   "metadata": {},
   "outputs": [
    {
     "data": {
      "text/plain": [
       "array([[0, 1, 2, 3, 4],\n",
       "       [1, 2, 3, 4, 5],\n",
       "       [2, 3, 4, 5, 6],\n",
       "       [3, 4, 5, 6, 7],\n",
       "       [4, 5, 6, 7, 8]])"
      ]
     },
     "execution_count": 10,
     "metadata": {},
     "output_type": "execute_result"
    }
   ],
   "source": [
    "x = np.arange(5)\n",
    "x[:,np.newaxis] + x[np.newaxis, :]"
   ]
  },
  {
   "cell_type": "markdown",
   "id": "88623f72",
   "metadata": {},
   "source": [
    "### 2.2. Advanced indexing\n",
    "\n",
    "Advanced indexing is triggered when the selection object, obj, is a non-tuple sequence object, an ndarray (of data type integer or bool), or a tuple with at least one sequence object or ndarray (of data type integer or bool). There are two types of advanced indexing: integer and Boolean.\n",
    "\n",
    "Advanced indexing always returns a copy of the data (contrast with basic slicing that returns a view).\n",
    "\n",
    "Warning : The definition of advanced indexing means that x[(1, 2, 3),] is fundamentally different than x[(1, 2, 3)]. The latter is equivalent to x[1, 2, 3] which will trigger basic selection while the former will trigger advanced indexing. Be sure to understand why this occurs.\n",
    "\n",
    "**Integer array indexing**\n",
    "\n",
    "Integer array indexing allows selection of arbitrary items in the array based on their N-dimensional index. Each integer array represents a number of indices into that dimension.\n",
    "\n",
    "Negative values are permitted in the index arrays and work as they do with single indices or slices:"
   ]
  },
  {
   "cell_type": "code",
   "execution_count": 11,
   "id": "8793de9d",
   "metadata": {},
   "outputs": [
    {
     "data": {
      "text/plain": [
       "array([10,  9,  8,  7,  6,  5,  4,  3,  2])"
      ]
     },
     "execution_count": 11,
     "metadata": {},
     "output_type": "execute_result"
    }
   ],
   "source": [
    "x = np.arange(10,1,-1)\n",
    "x"
   ]
  },
  {
   "cell_type": "code",
   "execution_count": 12,
   "id": "07fa7cf5",
   "metadata": {},
   "outputs": [
    {
     "data": {
      "text/plain": [
       "array([7, 7, 9, 2])"
      ]
     },
     "execution_count": 12,
     "metadata": {},
     "output_type": "execute_result"
    }
   ],
   "source": [
    "x[np.array([3,3,1,8])]"
   ]
  },
  {
   "cell_type": "code",
   "execution_count": 13,
   "id": "197c9c82",
   "metadata": {},
   "outputs": [
    {
     "data": {
      "text/plain": [
       "array([7, 7, 4, 2])"
      ]
     },
     "execution_count": 13,
     "metadata": {},
     "output_type": "execute_result"
    }
   ],
   "source": [
    "x[np.array([3,3,-3,8])]"
   ]
  },
  {
   "cell_type": "code",
   "execution_count": 14,
   "id": "4d45401e",
   "metadata": {},
   "outputs": [
    {
     "data": {
      "text/plain": [
       "array([[3, 4],\n",
       "       [5, 6]])"
      ]
     },
     "execution_count": 14,
     "metadata": {},
     "output_type": "execute_result"
    }
   ],
   "source": [
    "# If the index values are out of bounds then an IndexError is thrown:\n",
    "x = np.array([[1,2],[3,4],[5,6]])\n",
    "x[np.array([1,-1])]"
   ]
  },
  {
   "cell_type": "code",
   "execution_count": 15,
   "id": "45a77af2",
   "metadata": {},
   "outputs": [
    {
     "ename": "IndexError",
     "evalue": "index 3 is out of bounds for axis 0 with size 3",
     "output_type": "error",
     "traceback": [
      "\u001b[1;31m---------------------------------------------------------------------------\u001b[0m",
      "\u001b[1;31mIndexError\u001b[0m                                Traceback (most recent call last)",
      "Cell \u001b[1;32mIn[15], line 1\u001b[0m\n\u001b[1;32m----> 1\u001b[0m x[np\u001b[38;5;241m.\u001b[39marray([\u001b[38;5;241m3\u001b[39m,\u001b[38;5;241m4\u001b[39m])]\n",
      "\u001b[1;31mIndexError\u001b[0m: index 3 is out of bounds for axis 0 with size 3"
     ]
    }
   ],
   "source": [
    "x[np.array([3,4])]"
   ]
  },
  {
   "cell_type": "markdown",
   "id": "72bd6b2d",
   "metadata": {},
   "source": [
    "When the index consists of as many integer arrays as dimensions of the array being indexed, the indexing is straightforward, but different from slicing.\n",
    "\n",
    "Advanced indices always are broadcast and iterated as one:\n",
    "\n",
    "**result[i_1, ..., i_M] == x[ind_1[i_1, ..., i_M], ind_2[i_1, ..., i_M],\n",
    "                           ..., ind_N[i_1, ..., i_M]]**\n",
    "    \n",
    "Note that the resulting shape is identical to the (broadcast) indexing array shapes ind_1, ..., ind_N. If the indices cannot be broadcast to the same shape, an exception IndexError: shape mismatch: indexing arrays could not be broadcast together with shapes... is raised.\n",
    "\n",
    "Indexing with multidimensional index arrays tend to be more unusual uses, but they are permitted, and they are useful for some problems. We’ll start with the simplest multidimensional case:"
   ]
  },
  {
   "cell_type": "code",
   "execution_count": 16,
   "id": "d9fd46ea",
   "metadata": {},
   "outputs": [
    {
     "data": {
      "text/plain": [
       "array([[ 0,  1,  2,  3,  4,  5,  6],\n",
       "       [ 7,  8,  9, 10, 11, 12, 13],\n",
       "       [14, 15, 16, 17, 18, 19, 20],\n",
       "       [21, 22, 23, 24, 25, 26, 27],\n",
       "       [28, 29, 30, 31, 32, 33, 34]])"
      ]
     },
     "execution_count": 16,
     "metadata": {},
     "output_type": "execute_result"
    }
   ],
   "source": [
    "y = np.arange(35).reshape(5,7)\n",
    "y"
   ]
  },
  {
   "cell_type": "code",
   "execution_count": 17,
   "id": "762e9c32",
   "metadata": {},
   "outputs": [
    {
     "data": {
      "text/plain": [
       "array([ 0, 15, 30])"
      ]
     },
     "execution_count": 17,
     "metadata": {},
     "output_type": "execute_result"
    }
   ],
   "source": [
    "y[np.array([0,2,4]), np.array([0,1,2])]"
   ]
  },
  {
   "cell_type": "markdown",
   "id": "410e7668",
   "metadata": {},
   "source": [
    "In this case, if the index arrays have a matching shape, and there is an index array for each dimension of the array being indexed, the resultant array has the same shape as the index arrays, and the values correspond to the index set for each position in the index arrays. In this example, the first index value is 0 for both index arrays, and thus the first value of the resultant array is y[0, 0]. The next value is y[2, 1], and the last is y[4, 2].\n",
    "\n",
    "If the index arrays do not have the same shape, there is an attempt to broadcast them to the same shape. If they cannot be broadcast to the same shape, an exception is raised:"
   ]
  },
  {
   "cell_type": "code",
   "execution_count": 18,
   "id": "1b173f56",
   "metadata": {},
   "outputs": [
    {
     "ename": "IndexError",
     "evalue": "shape mismatch: indexing arrays could not be broadcast together with shapes (3,) (2,) ",
     "output_type": "error",
     "traceback": [
      "\u001b[1;31m---------------------------------------------------------------------------\u001b[0m",
      "\u001b[1;31mIndexError\u001b[0m                                Traceback (most recent call last)",
      "Cell \u001b[1;32mIn[18], line 1\u001b[0m\n\u001b[1;32m----> 1\u001b[0m y[np\u001b[38;5;241m.\u001b[39marray([\u001b[38;5;241m0\u001b[39m,\u001b[38;5;241m2\u001b[39m,\u001b[38;5;241m4\u001b[39m]), np\u001b[38;5;241m.\u001b[39marray([\u001b[38;5;241m0\u001b[39m,\u001b[38;5;241m1\u001b[39m])]\n",
      "\u001b[1;31mIndexError\u001b[0m: shape mismatch: indexing arrays could not be broadcast together with shapes (3,) (2,) "
     ]
    }
   ],
   "source": [
    "y[np.array([0,2,4]), np.array([0,1])]"
   ]
  },
  {
   "cell_type": "markdown",
   "id": "b89485ab",
   "metadata": {},
   "source": [
    "The broadcasting mechanism permits index arrays to be combined with scalars for other indices. The effect is that the scalar value is used for all the corresponding values of the index arrays:"
   ]
  },
  {
   "cell_type": "code",
   "execution_count": 19,
   "id": "acea1699",
   "metadata": {},
   "outputs": [
    {
     "data": {
      "text/plain": [
       "array([ 1, 15, 29])"
      ]
     },
     "execution_count": 19,
     "metadata": {},
     "output_type": "execute_result"
    }
   ],
   "source": [
    "y[np.array([0,2,4]),1]"
   ]
  },
  {
   "cell_type": "markdown",
   "id": "3ef37935",
   "metadata": {},
   "source": [
    "Jumping to the next level of complexity, it is possible to only partially index an array with index arrays. It takes a bit of thought to understand what happens in such cases. For example if we just use one index array with y:"
   ]
  },
  {
   "cell_type": "code",
   "execution_count": 20,
   "id": "5e383c63",
   "metadata": {},
   "outputs": [
    {
     "data": {
      "text/plain": [
       "array([[ 0,  1,  2,  3,  4,  5,  6],\n",
       "       [14, 15, 16, 17, 18, 19, 20],\n",
       "       [28, 29, 30, 31, 32, 33, 34]])"
      ]
     },
     "execution_count": 20,
     "metadata": {},
     "output_type": "execute_result"
    }
   ],
   "source": [
    "y[np.array([0,2,4])]"
   ]
  },
  {
   "cell_type": "markdown",
   "id": "1accf154",
   "metadata": {},
   "source": [
    "It results in the construction of a new array where each value of the index array selects one row from the array being indexed and the resultant array has the resulting shape (number of index elements, size of row).\n",
    "\n",
    "In general, the shape of the resultant array will be the concatenation of the shape of the index array (or the shape that all the index arrays were broadcast to) with the shape of any unused dimensions (those not indexed) in the array being indexed.\n",
    "\n",
    "**Example**\n",
    "\n",
    "From each row, a specific element should be selected. The row index is just [0, 1, 2] and the column index specifies the element to choose for the corresponding row, here [0, 1, 0]. Using both together the task can be solved using advanced indexing:"
   ]
  },
  {
   "cell_type": "code",
   "execution_count": 21,
   "id": "88b4a250",
   "metadata": {},
   "outputs": [
    {
     "data": {
      "text/plain": [
       "array([1, 4, 5])"
      ]
     },
     "execution_count": 21,
     "metadata": {},
     "output_type": "execute_result"
    }
   ],
   "source": [
    "x = np.array([[1,2],[3,4],[5,6]])\n",
    "x[[0,1,2], [0,1,0]]"
   ]
  },
  {
   "cell_type": "markdown",
   "id": "9642e9ec",
   "metadata": {},
   "source": [
    "To achieve a behaviour similar to the basic slicing above, broadcasting can be used. The function ix_ can help with this broadcasting. This is best understood with an example.\n",
    "\n",
    "**Example**\n",
    "\n",
    "From a 4x3 array the corner elements should be selected using advanced indexing. Thus all elements for which the column is one of [0, 2] and the row is one of [0, 3] need to be selected. To use advanced indexing one needs to select all elements explicitly. Using the method explained previously one could write:"
   ]
  },
  {
   "cell_type": "code",
   "execution_count": 22,
   "id": "3e5a823b",
   "metadata": {},
   "outputs": [
    {
     "data": {
      "text/plain": [
       "array([[ 0,  2],\n",
       "       [ 9, 11]])"
      ]
     },
     "execution_count": 22,
     "metadata": {},
     "output_type": "execute_result"
    }
   ],
   "source": [
    "x = np.array([[ 0,  1,  2],\n",
    "              [ 3,  4,  5],\n",
    "              [ 6,  7,  8],\n",
    "              [ 9, 10, 11]])\n",
    "rows = np.array([[0,0],\n",
    "                [3,3]], dtype = np.intp)\n",
    "\n",
    "columns = np.array([[0,2],\n",
    "                   [0,2]], dtype = np.intp)\n",
    "x[rows, columns]"
   ]
  },
  {
   "cell_type": "markdown",
   "id": "075ac2c5",
   "metadata": {},
   "source": [
    "However, since the indexing arrays above just repeat themselves, broadcasting can be used (compare operations such as rows[:, np.newaxis] + columns) to simplify this:"
   ]
  },
  {
   "cell_type": "code",
   "execution_count": 23,
   "id": "514ae59c",
   "metadata": {},
   "outputs": [
    {
     "data": {
      "text/plain": [
       "array([[0],\n",
       "       [3]], dtype=int64)"
      ]
     },
     "execution_count": 23,
     "metadata": {},
     "output_type": "execute_result"
    }
   ],
   "source": [
    "rows = np.array([0,3], dtype = np.intp)\n",
    "columns = np.array([0,2], dtype = np.intp)\n",
    "rows[:,np.newaxis]"
   ]
  },
  {
   "cell_type": "code",
   "execution_count": 24,
   "id": "de95dc67",
   "metadata": {},
   "outputs": [
    {
     "data": {
      "text/plain": [
       "array([[ 0,  2],\n",
       "       [ 9, 11]])"
      ]
     },
     "execution_count": 24,
     "metadata": {},
     "output_type": "execute_result"
    }
   ],
   "source": [
    "x[rows[:,np.newaxis],columns]"
   ]
  },
  {
   "cell_type": "markdown",
   "id": "8fea8b09",
   "metadata": {},
   "source": [
    "This broadcasting can also be achieved using the function ix_:"
   ]
  },
  {
   "cell_type": "code",
   "execution_count": 25,
   "id": "d6cabd75",
   "metadata": {},
   "outputs": [
    {
     "data": {
      "text/plain": [
       "array([[ 0,  2],\n",
       "       [ 9, 11]])"
      ]
     },
     "execution_count": 25,
     "metadata": {},
     "output_type": "execute_result"
    }
   ],
   "source": [
    "x[np.ix_(rows, columns)]"
   ]
  },
  {
   "cell_type": "markdown",
   "id": "ae290c95",
   "metadata": {},
   "source": [
    "Note that without the np.ix_ call, only the diagonal elements would be selected:"
   ]
  },
  {
   "cell_type": "code",
   "execution_count": 26,
   "id": "4f27a0cc",
   "metadata": {},
   "outputs": [
    {
     "data": {
      "text/plain": [
       "array([ 0, 11])"
      ]
     },
     "execution_count": 26,
     "metadata": {},
     "output_type": "execute_result"
    }
   ],
   "source": [
    "x[rows, columns]"
   ]
  },
  {
   "cell_type": "markdown",
   "id": "65138b6f",
   "metadata": {},
   "source": [
    "This difference is the most important thing to remember about indexing with multiple advanced indices.\n",
    "\n",
    "**Example**\n",
    "\n",
    "A real-life example of where advanced indexing may be useful is for a color lookup table where we want to map the values of an image into RGB triples for display. The lookup table could have a shape (nlookup, 3). Indexing such an array with an image with shape (ny, nx) with dtype=np.uint8 (or any integer type so long as values are with the bounds of the lookup table) will result in an array of shape (ny, nx, 3) where a triple of RGB values is associated with each pixel location.\n",
    "\n",
    "**Boolean array indexing**\n",
    "\n",
    "This advanced indexing occurs when obj is an array object of Boolean type, such as may be returned from comparison operators. A single boolean index array is practically identical to x[obj.nonzero()] where, as described above, obj.nonzero() returns a tuple (of length obj.ndim) of integer index arrays showing the True elements of obj. However, it is faster when obj.shape == x.shape.\n",
    "\n",
    "If obj.ndim == x.ndim, x[obj] returns a 1-dimensional array filled with the elements of x corresponding to the True values of obj. The search order will be row-major, C-style. An index error will be raised if the shape of obj does not match the corresponding dimensions of x, regardless of whether those values are True or False.\n",
    "\n",
    "A common use case for this is filtering for desired element values. For example, one may wish to select all entries from an array which are not NaN:"
   ]
  },
  {
   "cell_type": "code",
   "execution_count": 27,
   "id": "f265253e",
   "metadata": {},
   "outputs": [
    {
     "data": {
      "text/plain": [
       "array([1., 2., 3.])"
      ]
     },
     "execution_count": 27,
     "metadata": {},
     "output_type": "execute_result"
    }
   ],
   "source": [
    "x = np.array([[1.,2.], [np.nan, 3.], [np.nan, np.nan]])\n",
    "x[~np.isnan(x)]"
   ]
  },
  {
   "cell_type": "code",
   "execution_count": 28,
   "id": "4bd3a650",
   "metadata": {},
   "outputs": [
    {
     "data": {
      "text/plain": [
       "array([ 1., 19., 18.,  3.])"
      ]
     },
     "execution_count": 28,
     "metadata": {},
     "output_type": "execute_result"
    }
   ],
   "source": [
    "# Or wish to add a constant to all negative elements:\n",
    "x = np.array([1.,-1.,-2.,3])\n",
    "x[x<0] += 20\n",
    "x"
   ]
  },
  {
   "cell_type": "markdown",
   "id": "e0487a94",
   "metadata": {},
   "source": [
    "In general if an index includes a Boolean array, the result will be identical to inserting obj.nonzero() into the same position and using the integer array indexing mechanism described above. x[ind_1, boolean_array, ind_2] is equivalent to x[(ind_1,) + boolean_array.nonzero() + (ind_2,)].\n",
    "\n",
    "If there is only one Boolean array and no integer indexing array present, this is straightforward. Care must only be taken to make sure that the boolean index has exactly as many dimensions as it is supposed to work with.\n",
    "\n",
    "In general, when the boolean array has fewer dimensions than the array being indexed, this is equivalent to x[b, ...], which means x is indexed by b followed by as many : as are needed to fill out the rank of x. Thus the shape of the result is one dimension containing the number of True elements of the boolean array, followed by the remaining dimensions of the array being indexed:"
   ]
  },
  {
   "cell_type": "code",
   "execution_count": 29,
   "id": "f8df2965",
   "metadata": {},
   "outputs": [
    {
     "data": {
      "text/plain": [
       "array([False, False, False,  True,  True])"
      ]
     },
     "execution_count": 29,
     "metadata": {},
     "output_type": "execute_result"
    }
   ],
   "source": [
    "x = np.arange(35).reshape(5,7)\n",
    "b = x > 20\n",
    "b[:,5]"
   ]
  },
  {
   "cell_type": "code",
   "execution_count": 30,
   "id": "bb6fc2bf",
   "metadata": {},
   "outputs": [
    {
     "data": {
      "text/plain": [
       "array([[21, 22, 23, 24, 25, 26, 27],\n",
       "       [28, 29, 30, 31, 32, 33, 34]])"
      ]
     },
     "execution_count": 30,
     "metadata": {},
     "output_type": "execute_result"
    }
   ],
   "source": [
    "x[b[:,5]]"
   ]
  },
  {
   "cell_type": "markdown",
   "id": "f51f1e84",
   "metadata": {},
   "source": [
    "Here the 4th and 5th rows are selected from the indexed array and combined to make a 2-D array.\n",
    "\n",
    "**Example**\n",
    "\n",
    "From an array, select all rows which sum up to less or equal two:"
   ]
  },
  {
   "cell_type": "code",
   "execution_count": 31,
   "id": "ee75b705",
   "metadata": {},
   "outputs": [
    {
     "data": {
      "text/plain": [
       "array([[0, 1],\n",
       "       [1, 1]])"
      ]
     },
     "execution_count": 31,
     "metadata": {},
     "output_type": "execute_result"
    }
   ],
   "source": [
    "x = np.array([[0,1],[1,1],[2,2]])\n",
    "rowsum = x.sum(-1)\n",
    "x[rowsum <=2, :]"
   ]
  },
  {
   "cell_type": "markdown",
   "id": "8a184a61",
   "metadata": {},
   "source": [
    "Combining multiple Boolean indexing arrays or a Boolean with an integer indexing array can best be understood with the obj.nonzero() analogy. The function ix_ also supports boolean arrays and will work without any surprises.\n",
    "\n",
    "**Example**\n",
    "\n",
    "Use boolean indexing to select all rows adding up to an even number. At the same time columns 0 and 2 should be selected with an advanced integer index. Using the ix_ function this can be done with:"
   ]
  },
  {
   "cell_type": "code",
   "execution_count": 34,
   "id": "091c1c76",
   "metadata": {},
   "outputs": [
    {
     "data": {
      "text/plain": [
       "array([False,  True, False,  True])"
      ]
     },
     "execution_count": 34,
     "metadata": {},
     "output_type": "execute_result"
    }
   ],
   "source": [
    "x = np.array([[ 0,  1,  2],\n",
    "              [ 3,  4,  5],\n",
    "              [ 6,  7,  8],\n",
    "              [ 9, 10, 11]])\n",
    "rows = (x.sum(-1)%2) == 0\n",
    "rows"
   ]
  },
  {
   "cell_type": "code",
   "execution_count": 35,
   "id": "754864ad",
   "metadata": {},
   "outputs": [
    {
     "data": {
      "text/plain": [
       "array([[ 3,  5],\n",
       "       [ 9, 11]])"
      ]
     },
     "execution_count": 35,
     "metadata": {},
     "output_type": "execute_result"
    }
   ],
   "source": [
    "columns = [0,2]\n",
    "x[np.ix_(rows,columns)]"
   ]
  },
  {
   "cell_type": "markdown",
   "id": "36aed642",
   "metadata": {},
   "source": [
    "Without the np.ix_ call, only the diagonal elements would be selected.\n",
    "\n",
    "Or without np.ix_ (compare the integer array examples):"
   ]
  },
  {
   "cell_type": "code",
   "execution_count": 36,
   "id": "258949b9",
   "metadata": {},
   "outputs": [
    {
     "data": {
      "text/plain": [
       "array([[ 3,  5],\n",
       "       [ 9, 11]])"
      ]
     },
     "execution_count": 36,
     "metadata": {},
     "output_type": "execute_result"
    }
   ],
   "source": [
    "rows = rows.nonzero()[0]\n",
    "x[rows[:,np.newaxis],columns]"
   ]
  },
  {
   "cell_type": "markdown",
   "id": "0d3a95f8",
   "metadata": {},
   "source": [
    "**Example**\n",
    "\n",
    "Use a 2-D boolean array of shape (2, 3) with four True elements to select rows from a 3-D array of shape (2, 3, 5) results in a 2-D result of shape (4, 5):"
   ]
  },
  {
   "cell_type": "code",
   "execution_count": 38,
   "id": "a685c8e7",
   "metadata": {},
   "outputs": [
    {
     "data": {
      "text/plain": [
       "array([[[ 0,  1,  2,  3,  4],\n",
       "        [ 5,  6,  7,  8,  9],\n",
       "        [10, 11, 12, 13, 14]],\n",
       "\n",
       "       [[15, 16, 17, 18, 19],\n",
       "        [20, 21, 22, 23, 24],\n",
       "        [25, 26, 27, 28, 29]]])"
      ]
     },
     "execution_count": 38,
     "metadata": {},
     "output_type": "execute_result"
    }
   ],
   "source": [
    "x = np.arange(30).reshape(2,3,5)\n",
    "x"
   ]
  },
  {
   "cell_type": "code",
   "execution_count": 39,
   "id": "8a5be0a3",
   "metadata": {},
   "outputs": [
    {
     "data": {
      "text/plain": [
       "array([[ 0,  1,  2,  3,  4],\n",
       "       [ 5,  6,  7,  8,  9],\n",
       "       [10, 11, 12, 13, 14],\n",
       "       [20, 21, 22, 23, 24],\n",
       "       [25, 26, 27, 28, 29]])"
      ]
     },
     "execution_count": 39,
     "metadata": {},
     "output_type": "execute_result"
    }
   ],
   "source": [
    "b = np.array([[True, True, True], [False, True, True]])\n",
    "x[b]"
   ]
  },
  {
   "cell_type": "markdown",
   "id": "399e661f",
   "metadata": {},
   "source": [
    "**Combining advanced and basic indexing**\n",
    "\n",
    "When there is at least one slice (:), ellipsis (...) or newaxis in the index (or the array has more dimensions than there are advanced indices), then the behaviour can be more complicated. It is like concatenating the indexing result for each advanced index element.\n",
    "\n",
    "In the simplest case, there is only a single advanced index combined with a slice. For example:"
   ]
  },
  {
   "cell_type": "code",
   "execution_count": 40,
   "id": "ada504dc",
   "metadata": {},
   "outputs": [
    {
     "data": {
      "text/plain": [
       "array([[ 1,  2],\n",
       "       [15, 16],\n",
       "       [29, 30]])"
      ]
     },
     "execution_count": 40,
     "metadata": {},
     "output_type": "execute_result"
    }
   ],
   "source": [
    "y = np.arange(35).reshape(5,7)\n",
    "y[np.array([0,2,4]),1:3]"
   ]
  },
  {
   "cell_type": "markdown",
   "id": "381fc0c1",
   "metadata": {},
   "source": [
    "In effect, the slice and index array operation are independent. The slice operation extracts columns with index 1 and 2, (i.e. the 2nd and 3rd columns), followed by the index array operation which extracts rows with index 0, 2 and 4 (i.e the first, third and fifth rows). This is equivalent to:"
   ]
  },
  {
   "cell_type": "code",
   "execution_count": 41,
   "id": "9383be58",
   "metadata": {},
   "outputs": [
    {
     "data": {
      "text/plain": [
       "array([[ 1,  2],\n",
       "       [15, 16],\n",
       "       [29, 30]])"
      ]
     },
     "execution_count": 41,
     "metadata": {},
     "output_type": "execute_result"
    }
   ],
   "source": [
    "y[:,1:3][np.array([0,2,4]),:]"
   ]
  },
  {
   "cell_type": "markdown",
   "id": "376a4f31",
   "metadata": {},
   "source": [
    "A single advanced index can, for example, replace a slice and the result array will be the same. However, it is a copy and may have a different memory layout. A slice is preferable when it is possible. For example:"
   ]
  },
  {
   "cell_type": "code",
   "execution_count": 42,
   "id": "c01ae916",
   "metadata": {},
   "outputs": [
    {
     "data": {
      "text/plain": [
       "array([[4, 5]])"
      ]
     },
     "execution_count": 42,
     "metadata": {},
     "output_type": "execute_result"
    }
   ],
   "source": [
    "x = np.array([[ 0,  1,  2],\n",
    "              [ 3,  4,  5],\n",
    "              [ 6,  7,  8],\n",
    "              [ 9, 10, 11]])\n",
    "x[1:2, 1:3]"
   ]
  },
  {
   "cell_type": "code",
   "execution_count": 43,
   "id": "2cbf4951",
   "metadata": {},
   "outputs": [
    {
     "data": {
      "text/plain": [
       "array([[4, 5]])"
      ]
     },
     "execution_count": 43,
     "metadata": {},
     "output_type": "execute_result"
    }
   ],
   "source": [
    "x[1:2,[1,2]]"
   ]
  },
  {
   "cell_type": "markdown",
   "id": "228f87d9",
   "metadata": {},
   "source": [
    "The easiest way to understand a combination of multiple advanced indices may be to think in terms of the resulting shape. There are two parts to the indexing operation, the subspace defined by the basic indexing (excluding integers) and the subspace from the advanced indexing part. Two cases of index combination need to be distinguished:\n",
    "\n",
    "- The advanced indices are separated by a slice, Ellipsis or newaxis. For example x[arr1, :, arr2].\n",
    "\n",
    "- The advanced indices are all next to each other. For example x[..., arr1, arr2, :] but not x[arr1, :, 1] since 1 is an advanced index in this regard.\n",
    "\n",
    "In the first case, the dimensions resulting from the advanced indexing operation come first in the result array, and the subspace dimensions after that. In the second case, the dimensions from the advanced indexing operations are inserted into the result array at the same spot as they were in the initial array (the latter logic is what makes simple advanced indexing behave just like slicing).\n",
    "\n",
    "**Example**\n",
    "\n",
    "Suppose x.shape is (10, 20, 30) and ind is a (2, 3, 4)-shaped indexing intp array, then result = x[..., ind, :] has shape (10, 2, 3, 4, 30) because the (20,)-shaped subspace has been replaced with a (2, 3, 4)-shaped broadcasted indexing subspace. If we let i, j, k loop over the (2, 3, 4)-shaped subspace then result[..., i, j, k, :] = x[..., ind[i, j, k], :]. This example produces the same result as x.take(ind, axis=-2).\n",
    "\n",
    "**Example**\n",
    "\n",
    "Let x.shape be (10, 20, 30, 40, 50) and suppose ind_1 and ind_2 can be broadcast to the shape (2, 3, 4). Then x[:, ind_1, ind_2] has shape (10, 2, 3, 4, 40, 50) because the (20, 30)-shaped subspace from X has been replaced with the (2, 3, 4) subspace from the indices. However, x[:, ind_1, :, ind_2] has shape (2, 3, 4, 10, 30, 50) because there is no unambiguous place to drop in the indexing subspace, thus it is tacked-on to the beginning. It is always possible to use .transpose() to move the subspace anywhere desired. Note that this example cannot be replicated using take.\n",
    "\n",
    "**Example**\n",
    "\n",
    "Slicing can be combined with broadcasted boolean indices:"
   ]
  },
  {
   "cell_type": "code",
   "execution_count": 44,
   "id": "ef86dcc4",
   "metadata": {},
   "outputs": [
    {
     "data": {
      "text/plain": [
       "array([[False, False, False, False, False, False, False],\n",
       "       [False, False, False, False, False, False, False],\n",
       "       [False, False, False, False, False, False, False],\n",
       "       [ True,  True,  True,  True,  True,  True,  True],\n",
       "       [ True,  True,  True,  True,  True,  True,  True]])"
      ]
     },
     "execution_count": 44,
     "metadata": {},
     "output_type": "execute_result"
    }
   ],
   "source": [
    "x = np.arange(35).reshape(5,7)\n",
    "b = x>20\n",
    "b"
   ]
  },
  {
   "cell_type": "code",
   "execution_count": 45,
   "id": "628b4f43",
   "metadata": {},
   "outputs": [
    {
     "data": {
      "text/plain": [
       "array([[22, 23],\n",
       "       [29, 30]])"
      ]
     },
     "execution_count": 45,
     "metadata": {},
     "output_type": "execute_result"
    }
   ],
   "source": [
    "x[b[:,5],1:3]"
   ]
  },
  {
   "cell_type": "markdown",
   "id": "d9fc8e33",
   "metadata": {},
   "source": [
    "### 2.3. Field access\n",
    "\n",
    "See also : Structured arrays\n",
    "\n",
    "If the ndarray object is a structured array the fields of the array can be accessed by indexing the array with strings, dictionary-like.\n",
    "\n",
    "Indexing x['field-name'] returns a new view to the array, which is of the same shape as x (except when the field is a sub-array) but of data type x.dtype['field-name'] and contains only the part of the data in the specified field. Also, record array scalars can be “indexed” this way.\n",
    "\n",
    "Indexing into a structured array can also be done with a list of field names, e.g. x[['field-name1', 'field-name2']]. As of NumPy 1.16, this returns a view containing only those fields. In older versions of NumPy, it returned a copy. See the user guide section on Structured arrays for more information on multifield indexing.\n",
    "\n",
    "If the accessed field is a sub-array, the dimensions of the sub-array are appended to the shape of the result. For example:"
   ]
  },
  {
   "cell_type": "code",
   "execution_count": 46,
   "id": "4f1e2fb1",
   "metadata": {},
   "outputs": [
    {
     "data": {
      "text/plain": [
       "(2, 2)"
      ]
     },
     "execution_count": 46,
     "metadata": {},
     "output_type": "execute_result"
    }
   ],
   "source": [
    "x = np.zeros((2,2), dtype=[('a', np.int32), ('b', np.float64, (3,3))])\n",
    "x['a'].shape"
   ]
  },
  {
   "cell_type": "code",
   "execution_count": 47,
   "id": "8157a16e",
   "metadata": {},
   "outputs": [
    {
     "data": {
      "text/plain": [
       "dtype('int32')"
      ]
     },
     "execution_count": 47,
     "metadata": {},
     "output_type": "execute_result"
    }
   ],
   "source": [
    "x['a'].dtype"
   ]
  },
  {
   "cell_type": "code",
   "execution_count": 48,
   "id": "54d14aa9",
   "metadata": {},
   "outputs": [
    {
     "data": {
      "text/plain": [
       "(2, 2, 3, 3)"
      ]
     },
     "execution_count": 48,
     "metadata": {},
     "output_type": "execute_result"
    }
   ],
   "source": [
    "x['b'].shape"
   ]
  },
  {
   "cell_type": "code",
   "execution_count": 49,
   "id": "97b58ab9",
   "metadata": {},
   "outputs": [
    {
     "data": {
      "text/plain": [
       "dtype('float64')"
      ]
     },
     "execution_count": 49,
     "metadata": {},
     "output_type": "execute_result"
    }
   ],
   "source": [
    "x['b'].dtype"
   ]
  },
  {
   "cell_type": "markdown",
   "id": "b31f53f9",
   "metadata": {},
   "source": [
    "### 2.4. Flat Iterator indexing\n",
    "\n",
    "x.flat returns an iterator that will iterate over the entire array (in C-contiguous style with the last index varying the fastest). This iterator object can also be indexed using basic slicing or advanced indexing as long as the selection object is not a tuple. This should be clear from the fact that x.flat is a 1-dimensional view. It can be used for integer indexing with 1-dimensional C-style-flat indices. The shape of any returned array is therefore the shape of the integer indexing object.\n",
    "\n",
    "### 2.5. Assigning values to indexed arrays\n",
    "\n",
    "As mentioned, one can select a subset of an array to assign to using a single index, slices, and index and mask arrays. The value being assigned to the indexed array must be shape consistent (the same shape or broadcastable to the shape the index produces). For example, it is permitted to assign a constant to a slice:"
   ]
  },
  {
   "cell_type": "code",
   "execution_count": 50,
   "id": "acdee096",
   "metadata": {},
   "outputs": [],
   "source": [
    "x = np.arange(10)\n",
    "x[2:7] = 1"
   ]
  },
  {
   "cell_type": "code",
   "execution_count": 51,
   "id": "4f7e81fa",
   "metadata": {},
   "outputs": [],
   "source": [
    "# or an array of the right size:\n",
    "x[2:7] = np.arange(5)"
   ]
  },
  {
   "cell_type": "markdown",
   "id": "8271faea",
   "metadata": {},
   "source": [
    "Note that assignments may result in changes if assigning higher types to lower types (like floats to ints) or even exceptions (assigning complex to floats or ints):"
   ]
  },
  {
   "cell_type": "code",
   "execution_count": 52,
   "id": "f1b96e8a",
   "metadata": {},
   "outputs": [
    {
     "data": {
      "text/plain": [
       "1"
      ]
     },
     "execution_count": 52,
     "metadata": {},
     "output_type": "execute_result"
    }
   ],
   "source": [
    "x[1] = 1.2\n",
    "x[1]"
   ]
  },
  {
   "cell_type": "code",
   "execution_count": 53,
   "id": "70ca4867",
   "metadata": {},
   "outputs": [
    {
     "ename": "TypeError",
     "evalue": "int() argument must be a string, a bytes-like object or a real number, not 'complex'",
     "output_type": "error",
     "traceback": [
      "\u001b[1;31m---------------------------------------------------------------------------\u001b[0m",
      "\u001b[1;31mTypeError\u001b[0m                                 Traceback (most recent call last)",
      "Cell \u001b[1;32mIn[53], line 1\u001b[0m\n\u001b[1;32m----> 1\u001b[0m x[\u001b[38;5;241m1\u001b[39m] \u001b[38;5;241m=\u001b[39m \u001b[38;5;241m1.2\u001b[39mj\n",
      "\u001b[1;31mTypeError\u001b[0m: int() argument must be a string, a bytes-like object or a real number, not 'complex'"
     ]
    }
   ],
   "source": [
    "x[1] = 1.2j"
   ]
  },
  {
   "cell_type": "markdown",
   "id": "098e97eb",
   "metadata": {},
   "source": [
    "Unlike some of the references (such as array and mask indices) assignments are always made to the original data in the array (indeed, nothing else would make sense!). Note though, that some actions may not work as one may naively expect. This particular example is often surprising to people:"
   ]
  },
  {
   "cell_type": "code",
   "execution_count": 54,
   "id": "ab0c798d",
   "metadata": {},
   "outputs": [
    {
     "data": {
      "text/plain": [
       "array([ 0, 10, 20, 30, 40])"
      ]
     },
     "execution_count": 54,
     "metadata": {},
     "output_type": "execute_result"
    }
   ],
   "source": [
    "x = np.arange(0,50,10)\n",
    "x"
   ]
  },
  {
   "cell_type": "code",
   "execution_count": 55,
   "id": "58c2c0af",
   "metadata": {},
   "outputs": [
    {
     "data": {
      "text/plain": [
       "array([ 0, 11, 20, 31, 40])"
      ]
     },
     "execution_count": 55,
     "metadata": {},
     "output_type": "execute_result"
    }
   ],
   "source": [
    "x[np.array([1,1,3,1])] +=1\n",
    "x"
   ]
  },
  {
   "cell_type": "markdown",
   "id": "4351325f",
   "metadata": {},
   "source": [
    "Where people expect that the 1st location will be incremented by 3. In fact, it will only be incremented by 1. The reason is that a new array is extracted from the original (as a temporary) containing the values at 1, 1, 3, 1, then the value 1 is added to the temporary, and then the temporary is assigned back to the original array. Thus the value of the array at x[1] + 1 is assigned to x[1] three times, rather than being incremented 3 times."
   ]
  },
  {
   "cell_type": "markdown",
   "id": "e7a63d52",
   "metadata": {},
   "source": [
    "### 2.6. Dealing with variable numbers of indices within programs\n",
    "\n",
    "The indexing syntax is very powerful but limiting when dealing with a variable number of indices. For example, if you want to write a function that can handle arguments with various numbers of dimensions without having to write special case code for each number of possible dimensions, how can that be done? If one supplies to the index a tuple, the tuple will be interpreted as a list of indices. For example:"
   ]
  },
  {
   "cell_type": "code",
   "execution_count": 56,
   "id": "b553e922",
   "metadata": {},
   "outputs": [
    {
     "data": {
      "text/plain": [
       "40"
      ]
     },
     "execution_count": 56,
     "metadata": {},
     "output_type": "execute_result"
    }
   ],
   "source": [
    "z = np.arange(81).reshape(3,3,3,3)\n",
    "indices = (1,1,1,1)\n",
    "z[indices]"
   ]
  },
  {
   "cell_type": "markdown",
   "id": "58490127",
   "metadata": {},
   "source": [
    "So one can use code to construct tuples of any number of indices and then use these within an index.\n",
    "\n",
    "Slices can be specified within programs by using the slice() function in Python. For example:"
   ]
  },
  {
   "cell_type": "code",
   "execution_count": 57,
   "id": "1af25a4d",
   "metadata": {},
   "outputs": [
    {
     "data": {
      "text/plain": [
       "array([39, 40])"
      ]
     },
     "execution_count": 57,
     "metadata": {},
     "output_type": "execute_result"
    }
   ],
   "source": [
    "indices = (1,1,1, slice(0,2))   # same as [1,1,1, 0:2]\n",
    "z[indices]"
   ]
  },
  {
   "cell_type": "code",
   "execution_count": 59,
   "id": "31fa6e2c",
   "metadata": {},
   "outputs": [
    {
     "data": {
      "text/plain": [
       "array([[28, 31, 34],\n",
       "       [37, 40, 43],\n",
       "       [46, 49, 52]])"
      ]
     },
     "execution_count": 59,
     "metadata": {},
     "output_type": "execute_result"
    }
   ],
   "source": [
    "# Likewise, ellipsis can be specified by code by using the Ellipsis object:\n",
    "indices = (1, Ellipsis,1)   # same as [1, ..., 1]\n",
    "z[indices]"
   ]
  },
  {
   "cell_type": "markdown",
   "id": "fc7baa99",
   "metadata": {},
   "source": [
    "For this reason, it is possible to use the output from the np.nonzero() function directly as an index since it always returns a tuple of index arrays.\n",
    "\n",
    "Because of the special treatment of tuples, they are not automatically converted to an array as a list would be. As an example:"
   ]
  },
  {
   "cell_type": "code",
   "execution_count": 60,
   "id": "7b931ba3",
   "metadata": {
    "scrolled": true
   },
   "outputs": [
    {
     "data": {
      "text/plain": [
       "array([[[[27, 28, 29],\n",
       "         [30, 31, 32],\n",
       "         [33, 34, 35]],\n",
       "\n",
       "        [[36, 37, 38],\n",
       "         [39, 40, 41],\n",
       "         [42, 43, 44]],\n",
       "\n",
       "        [[45, 46, 47],\n",
       "         [48, 49, 50],\n",
       "         [51, 52, 53]]],\n",
       "\n",
       "\n",
       "       [[[27, 28, 29],\n",
       "         [30, 31, 32],\n",
       "         [33, 34, 35]],\n",
       "\n",
       "        [[36, 37, 38],\n",
       "         [39, 40, 41],\n",
       "         [42, 43, 44]],\n",
       "\n",
       "        [[45, 46, 47],\n",
       "         [48, 49, 50],\n",
       "         [51, 52, 53]]],\n",
       "\n",
       "\n",
       "       [[[27, 28, 29],\n",
       "         [30, 31, 32],\n",
       "         [33, 34, 35]],\n",
       "\n",
       "        [[36, 37, 38],\n",
       "         [39, 40, 41],\n",
       "         [42, 43, 44]],\n",
       "\n",
       "        [[45, 46, 47],\n",
       "         [48, 49, 50],\n",
       "         [51, 52, 53]]],\n",
       "\n",
       "\n",
       "       [[[27, 28, 29],\n",
       "         [30, 31, 32],\n",
       "         [33, 34, 35]],\n",
       "\n",
       "        [[36, 37, 38],\n",
       "         [39, 40, 41],\n",
       "         [42, 43, 44]],\n",
       "\n",
       "        [[45, 46, 47],\n",
       "         [48, 49, 50],\n",
       "         [51, 52, 53]]]])"
      ]
     },
     "execution_count": 60,
     "metadata": {},
     "output_type": "execute_result"
    }
   ],
   "source": [
    "z[[1,1,1,1]]   # produces a large array"
   ]
  },
  {
   "cell_type": "code",
   "execution_count": 61,
   "id": "a37123dd",
   "metadata": {},
   "outputs": [
    {
     "data": {
      "text/plain": [
       "40"
      ]
     },
     "execution_count": 61,
     "metadata": {},
     "output_type": "execute_result"
    }
   ],
   "source": [
    "z[(1,1,1,1)]    # returns a single value"
   ]
  },
  {
   "cell_type": "markdown",
   "id": "9d6fc070",
   "metadata": {},
   "source": [
    "### 2.7.  Detailed notes\n",
    "\n",
    "These are some detailed notes, which are not of importance for day to day indexing (in no particular order):\n",
    "\n",
    "- The native NumPy indexing type is intp and may differ from the default integer array type. intp is the smallest data type sufficient to safely index any array; for advanced indexing it may be faster than other types.\n",
    "- For advanced assignments, there is in general no guarantee for the iteration order. This means that if an element is set more than once, it is not possible to predict the final result.\n",
    "- An empty (tuple) index is a full scalar index into a zero-dimensional array. x[()] returns a scalar if x is zero-dimensional and a view otherwise. On the other hand, x[...] always returns a view.\n",
    "- If a zero-dimensional array is present in the index and it is a full integer index the result will be a scalar and not a zero-dimensional array. (Advanced indexing is not triggered.)\n",
    "- When an ellipsis (...) is present but has no size (i.e. replaces zero :) the result will still always be an array. A view if no advanced index is present, otherwise a copy.\n",
    "- The nonzero equivalence for Boolean arrays does not hold for zero dimensional boolean arrays.\n",
    "- When the result of an advanced indexing operation has no elements but an individual index is out of bounds, whether or not an IndexError is raised is undefined (e.g. x[[], [123]] with 123 being out of bounds).\n",
    "- When a casting error occurs during assignment (for example updating a numerical array using a sequence of strings), the array being assigned to may end up in an unpredictable partially updated state. However, if any other error (such as an out of bounds index) occurs, the array will remain unchanged.\n",
    "- The memory layout of an advanced indexing result is optimized for each indexing operation and no particular memory order can be assumed.\n",
    "- When using a subclass (especially one which manipulates its shape), the default ndarray.__setitem__ behaviour will call __getitem__ for basic indexing but not for advanced indexing. For such a subclass it may be preferable to call ndarray.__setitem__ with a base class ndarray view on the data. This must be done if the subclasses __getitem__ does not return views."
   ]
  },
  {
   "cell_type": "markdown",
   "id": "3cc3e9ce",
   "metadata": {},
   "source": [
    "## 3. I/O with NumPy\n",
    "\n",
    "### 3.1. Importing data with genfromtxt\n",
    "\n",
    "NumPy provides several functions to create arrays from tabular data. We focus here on the genfromtxt function.\n",
    "\n",
    "In a nutshell, genfromtxt runs two main loops. The first loop converts each line of the file in a sequence of strings. The second loop converts each string to the appropriate data type. This mechanism is slower than a single loop, but gives more flexibility. In particular, genfromtxt is able to take missing data into account, when other faster and simpler functions like loadtxt cannot.\n",
    "\n",
    "Note : When giving examples, we will use the following conventions:"
   ]
  },
  {
   "cell_type": "code",
   "execution_count": 1,
   "id": "9f509a0c",
   "metadata": {},
   "outputs": [],
   "source": [
    "import numpy as np\n",
    "from io import StringIO"
   ]
  },
  {
   "cell_type": "markdown",
   "id": "aaa9471e",
   "metadata": {},
   "source": [
    "#### 3.1.1. Defining the input\n",
    "\n",
    "The only mandatory argument of genfromtxt is the source of the data. It can be a string, a list of strings, a generator or an open file-like object with a read method, for example, a file or io.StringIO object. If a single string is provided, it is assumed to be the name of a local or remote file. If a list of strings or a generator returning strings is provided, each string is treated as one line in a file. When the URL of a remote file is passed, the file is automatically downloaded to the current directory and opened.\n",
    "\n",
    "Recognized file types are text files and archives. Currently, the function recognizes gzip and bz2 (bzip2) archives. The type of the archive is determined from the extension of the file: if the filename ends with '.gz', a gzip archive is expected; if it ends with 'bz2', a bzip2 archive is assumed.\n",
    "\n",
    "#### 3.1.2. Splitting the lines into columns\n",
    "\n",
    "**The delimiter argument**\n",
    "\n",
    "Once the file is defined and open for reading, genfromtxt splits each non-empty line into a sequence of strings. Empty or commented lines are just skipped. The delimiter keyword is used to define how the splitting should take place.\n",
    "\n",
    "Quite often, a single character marks the separation between columns. For example, comma-separated files (CSV) use a comma (,) or a semicolon (;) as delimiter:"
   ]
  },
  {
   "cell_type": "code",
   "execution_count": 2,
   "id": "20b76142",
   "metadata": {},
   "outputs": [
    {
     "data": {
      "text/plain": [
       "array([[1., 2., 3.],\n",
       "       [4., 5., 6.]])"
      ]
     },
     "execution_count": 2,
     "metadata": {},
     "output_type": "execute_result"
    }
   ],
   "source": [
    "data = u\"1, 2, 3\\n4, 5, 6\"\n",
    "np.genfromtxt(StringIO(data), delimiter = \",\")"
   ]
  },
  {
   "cell_type": "markdown",
   "id": "dbbc1fd4",
   "metadata": {},
   "source": [
    "Another common separator is \"\\t\", the tabulation character. However, we are not limited to a single character, any string will do. By default, genfromtxt assumes delimiter=None, meaning that the line is split along white spaces (including tabs) and that consecutive white spaces are considered as a single white space.\n",
    "\n",
    "Alternatively, we may be dealing with a fixed-width file, where columns are defined as a given number of characters. In that case, we need to set delimiter to a single integer (if all the columns have the same size) or to a sequence of integers (if columns can have different sizes):"
   ]
  },
  {
   "cell_type": "code",
   "execution_count": 7,
   "id": "4eb7bab2",
   "metadata": {},
   "outputs": [
    {
     "data": {
      "text/plain": [
       "array([[  1.,   2.,   3.],\n",
       "       [  4.,   5.,  67.],\n",
       "       [890., 123.,   4.]])"
      ]
     },
     "execution_count": 7,
     "metadata": {},
     "output_type": "execute_result"
    }
   ],
   "source": [
    "data = u\"  1  2  3\\n  4  5 67\\n890123  4\"\n",
    "np.genfromtxt(StringIO(data), delimiter = 3)"
   ]
  },
  {
   "cell_type": "code",
   "execution_count": 8,
   "id": "00a225fc",
   "metadata": {},
   "outputs": [
    {
     "data": {
      "text/plain": [
       "array([[1234.,  567.,   89.],\n",
       "       [   4.,    7.,    9.],\n",
       "       [   4.,  567.,    9.]])"
      ]
     },
     "execution_count": 8,
     "metadata": {},
     "output_type": "execute_result"
    }
   ],
   "source": [
    "data = u\"123456789\\n   4  7 9\\n   4567 9\"\n",
    "np.genfromtxt(StringIO(data), delimiter = (4,3,2))"
   ]
  },
  {
   "cell_type": "markdown",
   "id": "0baca03f",
   "metadata": {},
   "source": [
    "**The autostrip argument**\n",
    "\n",
    "By default, when a line is decomposed into a series of strings, the individual entries are not stripped of leading nor trailing white spaces. This behavior can be overwritten by setting the optional argument autostrip to a value of True:"
   ]
  },
  {
   "cell_type": "code",
   "execution_count": 11,
   "id": "c8ed4607",
   "metadata": {},
   "outputs": [
    {
     "data": {
      "text/plain": [
       "array([['1', ' abc ', ' 2'],\n",
       "       ['3', ' xxx', ' 4']], dtype='<U5')"
      ]
     },
     "execution_count": 11,
     "metadata": {},
     "output_type": "execute_result"
    }
   ],
   "source": [
    "data = u\"1, abc , 2\\n 3, xxx, 4\"\n",
    "# Without autostrip\n",
    "np.genfromtxt(StringIO(data), delimiter=',', dtype = \"|U5\")"
   ]
  },
  {
   "cell_type": "code",
   "execution_count": 12,
   "id": "b97aec39",
   "metadata": {},
   "outputs": [
    {
     "data": {
      "text/plain": [
       "array([['1', 'abc', '2'],\n",
       "       ['3', 'xxx', '4']], dtype='<U5')"
      ]
     },
     "execution_count": 12,
     "metadata": {},
     "output_type": "execute_result"
    }
   ],
   "source": [
    "# With autostrip\n",
    "np.genfromtxt(StringIO(data), delimiter = \",\", dtype = \"|U5\", autostrip = True)"
   ]
  },
  {
   "cell_type": "markdown",
   "id": "cb133a1a",
   "metadata": {},
   "source": [
    "**The comments argument**\n",
    "\n",
    "The optional argument comments is used to define a character string that marks the beginning of a comment. By default, genfromtxt assumes comments='#'. The comment marker may occur anywhere on the line. Any character present after the comment marker(s) is simply ignored:"
   ]
  },
  {
   "cell_type": "code",
   "execution_count": 13,
   "id": "bfae338a",
   "metadata": {},
   "outputs": [
    {
     "data": {
      "text/plain": [
       "array([[1., 2.],\n",
       "       [3., 4.],\n",
       "       [5., 6.],\n",
       "       [7., 8.],\n",
       "       [9., 0.]])"
      ]
     },
     "execution_count": 13,
     "metadata": {},
     "output_type": "execute_result"
    }
   ],
   "source": [
    "data = u\"\"\"#\n",
    "# Skip me !\n",
    "# Skip me too !\n",
    "1, 2\n",
    "3, 4\n",
    "5, 6 #This is the third line of the data\n",
    "7, 8\n",
    "# And here comes the last line\n",
    "9, 0\n",
    "\"\"\"\n",
    "np.genfromtxt(StringIO(data), comments=\"#\", delimiter = \",\")"
   ]
  },
  {
   "cell_type": "markdown",
   "id": "1fc101f2",
   "metadata": {},
   "source": [
    "Note : New in version 1.7.0: When comments is set to None, no lines are treated as comments.\n",
    "\n",
    "Note : here is one notable exception to this behavior: if the optional argument names=True, the first commented line will be examined for names.\n",
    "\n",
    "#### 3.1.3. Skipping lines and choosing columns\n",
    "\n",
    "**The skip_header and skip_footer arguments**\n",
    "\n",
    "The presence of a header in the file can hinder data processing. In that case, we need to use the skip_header optional argument. The values of this argument must be an integer which corresponds to the number of lines to skip at the beginning of the file, before any other action is performed. Similarly, we can skip the last n lines of the file by using the skip_footer attribute and giving it a value of n:"
   ]
  },
  {
   "cell_type": "code",
   "execution_count": 14,
   "id": "2ce935a0",
   "metadata": {},
   "outputs": [
    {
     "data": {
      "text/plain": [
       "array([0., 1., 2., 3., 4., 5., 6., 7., 8., 9.])"
      ]
     },
     "execution_count": 14,
     "metadata": {},
     "output_type": "execute_result"
    }
   ],
   "source": [
    "data = u\"\\n\".join(str(i) for i in range(10))\n",
    "np.genfromtxt(StringIO(data),)"
   ]
  },
  {
   "cell_type": "code",
   "execution_count": 15,
   "id": "ad7a074b",
   "metadata": {},
   "outputs": [
    {
     "data": {
      "text/plain": [
       "array([3., 4.])"
      ]
     },
     "execution_count": 15,
     "metadata": {},
     "output_type": "execute_result"
    }
   ],
   "source": [
    "np.genfromtxt(StringIO(data),\n",
    "             skip_header = 3,\n",
    "             skip_footer = 5)"
   ]
  },
  {
   "cell_type": "markdown",
   "id": "057950f7",
   "metadata": {},
   "source": [
    "By default, skip_header=0 and skip_footer=0, meaning that no lines are skipped.\n",
    "\n",
    "**The usecols argument**\n",
    "\n",
    "In some cases, we are not interested in all the columns of the data but only a few of them. We can select which columns to import with the usecols argument. This argument accepts a single integer or a sequence of integers corresponding to the indices of the columns to import. Remember that by convention, the first column has an index of 0. Negative integers behave the same as regular Python negative indexes.\n",
    "\n",
    "For example, if we want to import only the first and the last columns, we can use usecols=(0, -1):"
   ]
  },
  {
   "cell_type": "code",
   "execution_count": 17,
   "id": "4778c727",
   "metadata": {},
   "outputs": [
    {
     "data": {
      "text/plain": [
       "array([[1., 3.],\n",
       "       [4., 6.]])"
      ]
     },
     "execution_count": 17,
     "metadata": {},
     "output_type": "execute_result"
    }
   ],
   "source": [
    "data = u\"1 2 3\\n4 5 6\"\n",
    "np.genfromtxt(StringIO(data), usecols=(0,-1))"
   ]
  },
  {
   "cell_type": "markdown",
   "id": "4c5640ed",
   "metadata": {},
   "source": [
    "If the columns have names, we can also select which columns to import by giving their name to the usecols argument, either as a sequence of strings or a comma-separated string:"
   ]
  },
  {
   "cell_type": "code",
   "execution_count": 18,
   "id": "7e6fa0d5",
   "metadata": {},
   "outputs": [
    {
     "data": {
      "text/plain": [
       "array([(1., 3.), (4., 6.)], dtype=[('a', '<f8'), ('c', '<f8')])"
      ]
     },
     "execution_count": 18,
     "metadata": {},
     "output_type": "execute_result"
    }
   ],
   "source": [
    "data = u\"1 2 3\\n4 5 6\"\n",
    "np.genfromtxt(StringIO(data),\n",
    "             names = \"a,b,c\", usecols=(\"a\",\"c\"))"
   ]
  },
  {
   "cell_type": "code",
   "execution_count": 20,
   "id": "1addd68a",
   "metadata": {},
   "outputs": [
    {
     "data": {
      "text/plain": [
       "array([(1., 3.), (4., 6.)], dtype=[('a', '<f8'), ('c', '<f8')])"
      ]
     },
     "execution_count": 20,
     "metadata": {},
     "output_type": "execute_result"
    }
   ],
   "source": [
    "np.genfromtxt(StringIO(data),\n",
    "             names=\"a,b,c\", usecols=(\"a,c\"))"
   ]
  },
  {
   "cell_type": "markdown",
   "id": "6e7ff61c",
   "metadata": {},
   "source": [
    "#### 3.1.4. Choosing the data type\n",
    "\n",
    "The main way to control how the sequences of strings we have read from the file are converted to other types is to set the dtype argument. Acceptable values for this argument are:\n",
    "\n",
    "- a single type, such as dtype=float. The output will be 2D with the given dtype, unless a name has been associated with each column with the use of the names argument (see below). Note that dtype=float is the default for genfromtxt.\n",
    "- a sequence of types, such as dtype=(int, float, float).\n",
    "- a comma-separated string, such as dtype=\"i4,f8,|U3\".\n",
    "- a dictionary with two keys 'names' and 'formats'.\n",
    "- a sequence of tuples (name, type), such as dtype=[('A', int), ('B', float)].\n",
    "- an existing numpy.dtype object.\n",
    "- the special value None. In that case, the type of the columns will be determined from the data itself (see below).\n",
    "\n",
    "In all the cases but the first one, the output will be a 1D array with a structured dtype. This dtype has as many fields as items in the sequence. The field names are defined with the names keyword.\n",
    "\n",
    "When dtype=None, the type of each column is determined iteratively from its data. We start by checking whether a string can be converted to a boolean (that is, if the string matches true or false in lower cases); then whether it can be converted to an integer, then to a float, then to a complex and eventually to a string.\n",
    "\n",
    "The option dtype=None is provided for convenience. However, it is significantly slower than setting the dtype explicitly.\n",
    "\n",
    "#### 3.1.5. Setting the names\n",
    "\n",
    "**The names argument**\n",
    "\n",
    "A natural approach when dealing with tabular data is to allocate a name to each column. A first possibility is to use an explicit structured dtype, as mentioned previously:"
   ]
  },
  {
   "cell_type": "code",
   "execution_count": 21,
   "id": "c0b7690f",
   "metadata": {},
   "outputs": [
    {
     "data": {
      "text/plain": [
       "array([(1, 2, 3), (4, 5, 6)],\n",
       "      dtype=[('a', '<i4'), ('b', '<i4'), ('c', '<i4')])"
      ]
     },
     "execution_count": 21,
     "metadata": {},
     "output_type": "execute_result"
    }
   ],
   "source": [
    "data = StringIO(\"1 2 3\\n 4 5 6\")\n",
    "np.genfromtxt(data, dtype=[(_,int) for _ in \"abc\"])"
   ]
  },
  {
   "cell_type": "markdown",
   "id": "c798b4e7",
   "metadata": {},
   "source": [
    "Another simpler possibility is to use the names keyword with a sequence of strings or a comma-separated string:"
   ]
  },
  {
   "cell_type": "code",
   "execution_count": 22,
   "id": "1531af9c",
   "metadata": {},
   "outputs": [
    {
     "data": {
      "text/plain": [
       "array([(1., 2., 3.), (4., 5., 6.)],\n",
       "      dtype=[('A', '<f8'), ('B', '<f8'), ('C', '<f8')])"
      ]
     },
     "execution_count": 22,
     "metadata": {},
     "output_type": "execute_result"
    }
   ],
   "source": [
    "data = StringIO(\"1 2 3\\n 4 5 6\")\n",
    "np.genfromtxt(data, names = \"A,B,C\")"
   ]
  },
  {
   "cell_type": "markdown",
   "id": "68450459",
   "metadata": {},
   "source": [
    "In the example above, we used the fact that by default, dtype=float. By giving a sequence of names, we are forcing the output to a structured dtype.\n",
    "\n",
    "We may sometimes need to define the column names from the data itself. In that case, we must use the names keyword with a value of True. The names will then be read from the first line (after the skip_header ones), even if the line is commented out:"
   ]
  },
  {
   "cell_type": "code",
   "execution_count": 23,
   "id": "52953041",
   "metadata": {},
   "outputs": [
    {
     "data": {
      "text/plain": [
       "array([(1., 2., 3.), (4., 5., 6.)],\n",
       "      dtype=[('a', '<f8'), ('b', '<f8'), ('c', '<f8')])"
      ]
     },
     "execution_count": 23,
     "metadata": {},
     "output_type": "execute_result"
    }
   ],
   "source": [
    "data = StringIO(\"So it goes\\n#a b c\\n1 2 3\\n 4 5 6\")\n",
    "np.genfromtxt(data, skip_header=1, names = True)"
   ]
  },
  {
   "cell_type": "markdown",
   "id": "231215f5",
   "metadata": {},
   "source": [
    "The default value of names is None. If we give any other value to the keyword, the new names will overwrite the field names we may have defined with the dtype:"
   ]
  },
  {
   "cell_type": "code",
   "execution_count": 24,
   "id": "a0390982",
   "metadata": {},
   "outputs": [
    {
     "data": {
      "text/plain": [
       "array([(1, 2., 3), (4, 5., 6)],\n",
       "      dtype=[('A', '<i4'), ('B', '<f8'), ('C', '<i4')])"
      ]
     },
     "execution_count": 24,
     "metadata": {},
     "output_type": "execute_result"
    }
   ],
   "source": [
    "data = StringIO(\"1 2 3\\n 4 5 6\")\n",
    "ndtype = [('a', int), ('b', float), ('c', int)]\n",
    "names = [\"A\", \"B\", \"C\"]\n",
    "np.genfromtxt(data, names = names, dtype = ndtype)"
   ]
  },
  {
   "cell_type": "markdown",
   "id": "b53f7596",
   "metadata": {},
   "source": [
    "**The defaultfmt argument** \n",
    "\n",
    "If names=None but a structured dtype is expected, names are defined with the standard NumPy default of \"f%i\", yielding names like f0, f1 and so forth:"
   ]
  },
  {
   "cell_type": "code",
   "execution_count": 25,
   "id": "296d5567",
   "metadata": {},
   "outputs": [
    {
     "data": {
      "text/plain": [
       "array([(1, 2., 3), (4, 5., 6)],\n",
       "      dtype=[('f0', '<i4'), ('f1', '<f8'), ('f2', '<i4')])"
      ]
     },
     "execution_count": 25,
     "metadata": {},
     "output_type": "execute_result"
    }
   ],
   "source": [
    "data = StringIO(\"1 2 3\\n 4 5 6\")\n",
    "np.genfromtxt(data, dtype = (int,float,int))"
   ]
  },
  {
   "cell_type": "markdown",
   "id": "e471525b",
   "metadata": {},
   "source": [
    "In the same way, if we don’t give enough names to match the length of the dtype, the missing names will be defined with this default template:"
   ]
  },
  {
   "cell_type": "code",
   "execution_count": 26,
   "id": "90aef239",
   "metadata": {},
   "outputs": [
    {
     "data": {
      "text/plain": [
       "array([(1, 2., 3), (4, 5., 6)],\n",
       "      dtype=[('a', '<i4'), ('f0', '<f8'), ('f1', '<i4')])"
      ]
     },
     "execution_count": 26,
     "metadata": {},
     "output_type": "execute_result"
    }
   ],
   "source": [
    "data = StringIO(\"1 2 3\\n 4 5 6\")\n",
    "np.genfromtxt(data, dtype=(int,float,int), names = \"a\")"
   ]
  },
  {
   "cell_type": "markdown",
   "id": "e51c833a",
   "metadata": {},
   "source": [
    "We can overwrite this default with the defaultfmt argument, that takes any format string:"
   ]
  },
  {
   "cell_type": "code",
   "execution_count": 27,
   "id": "313b6653",
   "metadata": {},
   "outputs": [
    {
     "data": {
      "text/plain": [
       "array([(1, 2., 3), (4, 5., 6)],\n",
       "      dtype=[('var_00', '<i4'), ('var_01', '<f8'), ('var_02', '<i4')])"
      ]
     },
     "execution_count": 27,
     "metadata": {},
     "output_type": "execute_result"
    }
   ],
   "source": [
    "data = StringIO(\"1 2 3\\n 4 5 6\")\n",
    "np.genfromtxt(data, dtype=(int, float, int), defaultfmt=\"var_%02i\")"
   ]
  },
  {
   "cell_type": "markdown",
   "id": "0e040916",
   "metadata": {},
   "source": [
    "Note : We need to keep in mind that defaultfmt is used only if some names are expected but not defined."
   ]
  },
  {
   "cell_type": "markdown",
   "id": "71184787",
   "metadata": {},
   "source": [
    "**Validating names**\n",
    "\n",
    "NumPy arrays with a structured dtype can also be viewed as recarray, where a field can be accessed as if it were an attribute. For that reason, we may need to make sure that the field name doesn’t contain any space or invalid character, or that it does not correspond to the name of a standard attribute (like size or shape), which would confuse the interpreter. genfromtxt accepts three optional arguments that provide a finer control on the names:\n",
    "\n",
    "**deletechars**\n",
    "Gives a string combining all the characters that must be deleted from the name. By default, invalid characters are ~!@#$ %^& *()- +~\\|] }[{' ;: /?.>,< .\n",
    "\n",
    "**excludelist**\n",
    "Gives a list of the names to exclude, such as return, file, print… If one of the input name is part of this list, an underscore character ('_') will be appended to it.\n",
    "\n",
    "**case_sensitive**\n",
    "Whether the names should be case-sensitive (case_sensitive=True), converted to upper case (case_sensitive=False or case_sensitive='upper') or to lower case (case_sensitive='lower')."
   ]
  },
  {
   "cell_type": "markdown",
   "id": "afe21bef",
   "metadata": {},
   "source": [
    "#### 3.1.6. Tweaking the conversion\n",
    "\n",
    "**The converters argument**\n",
    "\n",
    "Usually, defining a dtype is sufficient to define how the sequence of strings must be converted. However, some additional control may sometimes be required. For example, we may want to make sure that a date in a format YYYY/MM/DD is converted to a datetime object, or that a string like xx% is properly converted to a float between 0 and 1. In such cases, we should define conversion functions with the converters arguments.\n",
    "\n",
    "The value of this argument is typically a dictionary with column indices or column names as keys and a conversion functions as values. These conversion functions can either be actual functions or lambda functions. In any case, they should accept only a string as input and output only a single element of the wanted type.\n",
    "\n",
    "In the following example, the second column is converted from as string representing a percentage to a float between 0 and 1:"
   ]
  },
  {
   "cell_type": "code",
   "execution_count": 28,
   "id": "d3185013",
   "metadata": {},
   "outputs": [
    {
     "data": {
      "text/plain": [
       "array([(1., nan, 45.), (6., nan,  0.)],\n",
       "      dtype=[('i', '<f8'), ('p', '<f8'), ('n', '<f8')])"
      ]
     },
     "execution_count": 28,
     "metadata": {},
     "output_type": "execute_result"
    }
   ],
   "source": [
    "convertfunc = lambda x: float(x.strip(b\"%\"))/100.\n",
    "data = u\"1, 2.3%, 45.\\n6, 78.9%, 0\"\n",
    "names = (\"i\", \"p\", \"n\")\n",
    "# General case .....\n",
    "np.genfromtxt(StringIO(data), delimiter=\",\", names=names)"
   ]
  },
  {
   "cell_type": "markdown",
   "id": "f2e15909",
   "metadata": {},
   "source": [
    "We need to keep in mind that by default, dtype=float. A float is therefore expected for the second column. However, the strings ' 2.3%' and ' 78.9%' cannot be converted to float and we end up having np.nan instead. Let’s now use a converter:"
   ]
  },
  {
   "cell_type": "code",
   "execution_count": 29,
   "id": "50f450b8",
   "metadata": {},
   "outputs": [
    {
     "data": {
      "text/plain": [
       "array([(1., 0.023, 45.), (6., 0.789,  0.)],\n",
       "      dtype=[('i', '<f8'), ('p', '<f8'), ('n', '<f8')])"
      ]
     },
     "execution_count": 29,
     "metadata": {},
     "output_type": "execute_result"
    }
   ],
   "source": [
    "# Converted case ...\n",
    "np.genfromtxt(StringIO(data), delimiter=\",\", names=names,\n",
    "              converters={1: convertfunc})"
   ]
  },
  {
   "cell_type": "markdown",
   "id": "14c9931a",
   "metadata": {},
   "source": [
    "The same results can be obtained by using the name of the second column (\"p\") as key instead of its index (1):"
   ]
  },
  {
   "cell_type": "code",
   "execution_count": 30,
   "id": "842c6a35",
   "metadata": {},
   "outputs": [
    {
     "data": {
      "text/plain": [
       "array([(1., 0.023, 45.), (6., 0.789,  0.)],\n",
       "      dtype=[('i', '<f8'), ('p', '<f8'), ('n', '<f8')])"
      ]
     },
     "execution_count": 30,
     "metadata": {},
     "output_type": "execute_result"
    }
   ],
   "source": [
    "# Using a name for the converter ...\n",
    "np.genfromtxt(StringIO(data), delimiter=\",\", names=names,\n",
    "              converters={\"p\": convertfunc})"
   ]
  },
  {
   "cell_type": "markdown",
   "id": "f3d20d04",
   "metadata": {},
   "source": [
    "Converters can also be used to provide a default for missing entries. In the following example, the converter convert transforms a stripped string into the corresponding float or into -999 if the string is empty. We need to explicitly strip the string from white spaces as it is not done by default:"
   ]
  },
  {
   "cell_type": "code",
   "execution_count": 31,
   "id": "aa6d5ab0",
   "metadata": {},
   "outputs": [
    {
     "data": {
      "text/plain": [
       "array([[   1., -999.,    3.],\n",
       "       [   4.,    5.,    6.]])"
      ]
     },
     "execution_count": 31,
     "metadata": {},
     "output_type": "execute_result"
    }
   ],
   "source": [
    "data = u\"1, , 3\\n 4, 5, 6\"\n",
    "convert = lambda x: float(x.strip() or -999)\n",
    "np.genfromtxt(StringIO(data), delimiter=\",\",\n",
    "              converters={1: convert})"
   ]
  },
  {
   "cell_type": "markdown",
   "id": "edf96988",
   "metadata": {},
   "source": [
    "**Using missing and filling values**\n",
    "\n",
    "Some entries may be missing in the dataset we are trying to import. In a previous example, we used a converter to transform an empty string into a float. However, user-defined converters may rapidly become cumbersome to manage.\n",
    "\n",
    "The genfromtxt function provides two other complementary mechanisms: the missing_values argument is used to recognize missing data and a second argument, filling_values, is used to process these missing data.\n",
    "\n",
    "**missing_values**\n",
    "By default, any empty string is marked as missing. We can also consider more complex strings, such as \"N/A\" or \"???\" to represent missing or invalid data. The missing_values argument accepts three kinds of values:\n",
    "\n",
    "*a string or a comma-separated string*\n",
    "This string will be used as the marker for missing data for all the columns\n",
    "\n",
    "*a sequence of strings*\n",
    "In that case, each item is associated to a column, in order.\n",
    "\n",
    "*a dictionary*\n",
    "Values of the dictionary are strings or sequence of strings. The corresponding keys can be column indices (integers) or column names (strings). In addition, the special key None can be used to define a default applicable to all columns.\n",
    "\n",
    "**filling_values**\n",
    "We know how to recognize missing data, but we still need to provide a value for these missing entries. By default, this value is determined from the expected dtype according to this table:\n",
    "\n",
    "|Expected type   |   Default|\n",
    "|----------------|----------|\n",
    "| bool            | False  |\n",
    "|int| -1|\n",
    "|float|np.nan|\n",
    "|complex|np.nan+0j|\n",
    "|string|'???'|\n",
    "\n",
    "We can get a finer control on the conversion of missing values with the filling_values optional argument. Like missing_values, this argument accepts different kind of values:\n",
    "\n",
    "*a single value*\n",
    "This will be the default for all columns\n",
    "\n",
    "*a sequence of values*\n",
    "Each entry will be the default for the corresponding column\n",
    "\n",
    "*a dictionary*\n",
    "Each key can be a column index or a column name, and the corresponding value should be a single object. We can use the special key None to define a default for all columns.\n",
    "\n",
    "In the following example, we suppose that the missing values are flagged with \"N/A\" in the first column and by \"???\" in the third column. We wish to transform these missing values to 0 if they occur in the first and second column, and to -999 if they occur in the last column:"
   ]
  },
  {
   "cell_type": "code",
   "execution_count": 32,
   "id": "cea38bf6",
   "metadata": {},
   "outputs": [
    {
     "data": {
      "text/plain": [
       "array([(0, 2,    3), (4, 0, -999)],\n",
       "      dtype=[('a', '<i4'), ('b', '<i4'), ('c', '<i4')])"
      ]
     },
     "execution_count": 32,
     "metadata": {},
     "output_type": "execute_result"
    }
   ],
   "source": [
    "data = u\"N/A, 2, 3\\n4, ,???\"\n",
    "kwargs = dict(delimiter=\",\",\n",
    "              dtype=int,\n",
    "              names=\"a,b,c\",\n",
    "              missing_values={0:\"N/A\", 'b':\" \", 2:\"???\"},\n",
    "              filling_values={0:0, 'b':0, 2:-999})\n",
    "np.genfromtxt(StringIO(data), **kwargs)"
   ]
  },
  {
   "cell_type": "markdown",
   "id": "f7b7310c",
   "metadata": {},
   "source": [
    "**usemask**\n",
    "We may also want to keep track of the occurrence of missing data by constructing a boolean mask, with True entries where data was missing and False otherwise. To do that, we just have to set the optional argument usemask to True (the default is False). The output array will then be a MaskedArray.\n",
    "\n",
    "#### 3.1.7. Shortcut functions\n",
    "In addition to genfromtxt, the numpy.lib.npyio module provides several convenience functions derived from genfromtxt. These functions work the same way as the original, but they have different default values.\n",
    "\n",
    "**numpy.lib.npyio.recfromtxt**\n",
    "\n",
    "Returns a standard numpy.recarray (if usemask=False) or a numpy.ma.mrecords.MaskedRecords array (if usemaske=True). The default dtype is dtype=None, meaning that the types of each column will be automatically determined.\n",
    "\n",
    "**numpy.lib.npyio.recfromcsv**\n",
    "\n",
    "Like numpy.lib.npyio.recfromtxt, but with a default delimiter=\",\"."
   ]
  },
  {
   "cell_type": "markdown",
   "id": "9d71c652",
   "metadata": {},
   "source": [
    "## 4. DATA TYPES\n",
    "\n",
    "See also : Data type objects\n",
    "\n",
    "### 4.1. Array types and conversions between types\n",
    "\n",
    "NumPy supports a much greater variety of numerical types than Python does. This section shows which are available, and how to modify an array’s data-type.\n",
    "\n",
    "The primitive types supported are tied closely to those in C:\n",
    "\n",
    "| Numpy type | C type | Description |\n",
    "|------------|--------|-------------|\n",
    "|numpy.bool_ |bool | Boolean (True or False) stored as a byte|\n",
    "|numpy.byte| signed char | Platform-defined |\n",
    "| numpy.ubyte| unsigned char | Platform-defined|\n",
    "| numpy.short| short | Platform-defined|\n",
    "|numpy.ushort|unsigned short|Platform-defined|\n",
    "|numpy.intc|int|Platform-defined|\n",
    "|numpy.uintc| unsigned int | Platform-defined|\n",
    "|numpy.int_ |long | Platform-defined |\n",
    "| numpy.uint | unsigned long | Platform-defined |\n",
    "| numpy.longlong | long long | Platform-defined |\n",
    "| numpy.ulonglong | unsigned long long | Platform-defined|\n",
    "| numpy.half / numpy.float16 |    | Half precision float: sign bit, 5 bits exponent, 10 bits mantissa|\n",
    "| numpy.single | float | Platform-defined single precision float: typically sign bit, 8 bits exponent, 23 bits mantissa |\n",
    "|numpy.double | double |Platform-defined double precision float: typically sign bit, 11 bits exponent, 52 bits mantissa.|\n",
    "| numpy.longdouble | long double | Platform-defined extended-precision float |\n",
    "| numpy.csingle | float complex | Complex number, represented by two single-precision floats (real and imaginary components)|\n",
    "| numpy.cdouble | double complex | Complex number, represented by two double-precision floats (real and imaginary components).|\n",
    "| numpy.clongdouble | long double complex | Complex number, represented by two extended-precision floats (real and imaginary components).|\n",
    "\n",
    "Since many of these have platform-dependent definitions, a set of fixed-size aliases are provided (See Sized aliases).\n",
    "\n",
    "NumPy numerical types are instances of dtype (data-type) objects, each having unique characteristics. Once you have imported NumPy using >>> import numpy as np the dtypes are available as np.bool_, np.float32, etc.\n",
    "\n",
    "Advanced types, not listed above, are explored in section Structured arrays.\n",
    "\n",
    "There are 5 basic numerical types representing booleans (bool), integers (int), unsigned integers (uint) floating point (float) and complex. Those with numbers in their name indicate the bitsize of the type (i.e. how many bits are needed to represent a single value in memory). Some types, such as int and intp, have differing bitsizes, dependent on the platforms (e.g. 32-bit vs. 64-bit machines). This should be taken into account when interfacing with low-level code (such as C or Fortran) where the raw memory is addressed.\n",
    "\n",
    "Data-types can be used as functions to convert python numbers to array scalars (see the array scalar section for an explanation), python sequences of numbers to arrays of that type, or as arguments to the dtype keyword that many numpy functions or methods accept. Some examples:"
   ]
  },
  {
   "cell_type": "code",
   "execution_count": 2,
   "id": "8518b693",
   "metadata": {},
   "outputs": [
    {
     "data": {
      "text/plain": [
       "1.0"
      ]
     },
     "execution_count": 2,
     "metadata": {},
     "output_type": "execute_result"
    }
   ],
   "source": [
    "x = np.float32(1.0)\n",
    "x"
   ]
  },
  {
   "cell_type": "code",
   "execution_count": 3,
   "id": "96dd25dc",
   "metadata": {},
   "outputs": [
    {
     "data": {
      "text/plain": [
       "array([1, 2, 4])"
      ]
     },
     "execution_count": 3,
     "metadata": {},
     "output_type": "execute_result"
    }
   ],
   "source": [
    "y = np.int_([1,2,4])\n",
    "y"
   ]
  },
  {
   "cell_type": "code",
   "execution_count": 4,
   "id": "57f32c9f",
   "metadata": {},
   "outputs": [
    {
     "data": {
      "text/plain": [
       "array([0, 1, 2], dtype=uint8)"
      ]
     },
     "execution_count": 4,
     "metadata": {},
     "output_type": "execute_result"
    }
   ],
   "source": [
    "z = np.arange(3, dtype = np.uint8)\n",
    "z"
   ]
  },
  {
   "cell_type": "markdown",
   "id": "79890bd5",
   "metadata": {},
   "source": [
    "Array types can also be referred to by character codes, mostly to retain backward compatibility with older packages such as Numeric. Some documentation may still refer to these, for example:"
   ]
  },
  {
   "cell_type": "code",
   "execution_count": 5,
   "id": "a602c4d6",
   "metadata": {},
   "outputs": [
    {
     "data": {
      "text/plain": [
       "array([1., 2., 3.], dtype=float32)"
      ]
     },
     "execution_count": 5,
     "metadata": {},
     "output_type": "execute_result"
    }
   ],
   "source": [
    "np.array([1,2,3], dtype = 'f')"
   ]
  },
  {
   "cell_type": "markdown",
   "id": "4ae64bf9",
   "metadata": {},
   "source": [
    "We recommend using dtype objects instead.\n",
    "\n",
    "To convert the type of an array, use the .astype() method (preferred) or the type itself as a function. For example:"
   ]
  },
  {
   "cell_type": "code",
   "execution_count": 6,
   "id": "21f01a69",
   "metadata": {},
   "outputs": [
    {
     "data": {
      "text/plain": [
       "array([0., 1., 2.])"
      ]
     },
     "execution_count": 6,
     "metadata": {},
     "output_type": "execute_result"
    }
   ],
   "source": [
    "z.astype(float)"
   ]
  },
  {
   "cell_type": "code",
   "execution_count": 7,
   "id": "be64b58d",
   "metadata": {},
   "outputs": [
    {
     "data": {
      "text/plain": [
       "array([0, 1, 2], dtype=int8)"
      ]
     },
     "execution_count": 7,
     "metadata": {},
     "output_type": "execute_result"
    }
   ],
   "source": [
    "np.int8(z)"
   ]
  },
  {
   "cell_type": "markdown",
   "id": "20bca46d",
   "metadata": {},
   "source": [
    "Note that, above, we use the Python float object as a dtype. NumPy knows that int refers to np.int_, bool means np.bool_, that float is np.float_ and complex is np.complex_. The other data-types do not have Python equivalents.\n",
    "\n",
    "To determine the type of an array, look at the dtype attribute:"
   ]
  },
  {
   "cell_type": "code",
   "execution_count": 8,
   "id": "f0c829bf",
   "metadata": {},
   "outputs": [
    {
     "data": {
      "text/plain": [
       "dtype('uint8')"
      ]
     },
     "execution_count": 8,
     "metadata": {},
     "output_type": "execute_result"
    }
   ],
   "source": [
    "z.dtype"
   ]
  },
  {
   "cell_type": "markdown",
   "id": "45334519",
   "metadata": {},
   "source": [
    "dtype objects also contain information about the type, such as its bit-width and its byte-order. The data type can also be used indirectly to query properties of the type, such as whether it is an integer:"
   ]
  },
  {
   "cell_type": "code",
   "execution_count": 9,
   "id": "7d5dcb66",
   "metadata": {},
   "outputs": [
    {
     "data": {
      "text/plain": [
       "dtype('int32')"
      ]
     },
     "execution_count": 9,
     "metadata": {},
     "output_type": "execute_result"
    }
   ],
   "source": [
    "d = np.dtype(int)\n",
    "d"
   ]
  },
  {
   "cell_type": "code",
   "execution_count": 10,
   "id": "3008c3be",
   "metadata": {},
   "outputs": [
    {
     "data": {
      "text/plain": [
       "True"
      ]
     },
     "execution_count": 10,
     "metadata": {},
     "output_type": "execute_result"
    }
   ],
   "source": [
    "np.issubdtype(d, np.integer)"
   ]
  },
  {
   "cell_type": "code",
   "execution_count": 12,
   "id": "3c258abb",
   "metadata": {},
   "outputs": [
    {
     "data": {
      "text/plain": [
       "False"
      ]
     },
     "execution_count": 12,
     "metadata": {},
     "output_type": "execute_result"
    }
   ],
   "source": [
    "np.issubdtype(d, np.floating)"
   ]
  },
  {
   "cell_type": "markdown",
   "id": "41dd57b4",
   "metadata": {},
   "source": [
    "### 4.2. Array Scalars\n",
    "\n",
    "NumPy generally returns elements of arrays as array scalars (a scalar with an associated dtype). Array scalars differ from Python scalars, but for the most part they can be used interchangeably (the primary exception is for versions of Python older than v2.x, where integer array scalars cannot act as indices for lists and tuples). There are some exceptions, such as when code requires very specific attributes of a scalar or when it checks specifically whether a value is a Python scalar. Generally, problems are easily fixed by explicitly converting array scalars to Python scalars, using the corresponding Python type function (e.g., int, float, complex, str, unicode).\n",
    "\n",
    "The primary advantage of using array scalars is that they preserve the array type (Python may not have a matching scalar type available, e.g. int16). Therefore, the use of array scalars ensures identical behaviour between arrays and scalars, irrespective of whether the value is inside an array or not. NumPy scalars also have many of the same methods arrays do.\n",
    "\n",
    "### 4.3. Overflow Errors\n",
    "\n",
    "The fixed size of NumPy numeric types may cause overflow errors when a value requires more memory than available in the data type. For example, numpy.power evaluates 100 ** 8 correctly for 64-bit integers, but gives 1874919424 (incorrect) for a 32-bit integer."
   ]
  },
  {
   "cell_type": "code",
   "execution_count": 13,
   "id": "a27f6fcc",
   "metadata": {},
   "outputs": [
    {
     "data": {
      "text/plain": [
       "10000000000000000"
      ]
     },
     "execution_count": 13,
     "metadata": {},
     "output_type": "execute_result"
    }
   ],
   "source": [
    "np.power(100, 8, dtype = np.int64)"
   ]
  },
  {
   "cell_type": "code",
   "execution_count": 14,
   "id": "774d35e0",
   "metadata": {},
   "outputs": [
    {
     "data": {
      "text/plain": [
       "1874919424"
      ]
     },
     "execution_count": 14,
     "metadata": {},
     "output_type": "execute_result"
    }
   ],
   "source": [
    "np.power(100, 8, dtype = np.int32)"
   ]
  },
  {
   "cell_type": "markdown",
   "id": "8c7cff3d",
   "metadata": {},
   "source": [
    "The behaviour of NumPy and Python integer types differs significantly for integer overflows and may confuse users expecting NumPy integers to behave similar to Python’s int. Unlike NumPy, the size of Python’s int is flexible. This means Python integers may expand to accommodate any integer and will not overflow.\n",
    "\n",
    "NumPy provides numpy.iinfo and numpy.finfo to verify the minimum or maximum values of NumPy integer and floating point values respectively"
   ]
  },
  {
   "cell_type": "code",
   "execution_count": 15,
   "id": "7c4d6096",
   "metadata": {},
   "outputs": [
    {
     "data": {
      "text/plain": [
       "iinfo(min=-2147483648, max=2147483647, dtype=int32)"
      ]
     },
     "execution_count": 15,
     "metadata": {},
     "output_type": "execute_result"
    }
   ],
   "source": [
    "np.iinfo(int) # Bounds of the default integer on this system."
   ]
  },
  {
   "cell_type": "code",
   "execution_count": 16,
   "id": "b0e47900",
   "metadata": {},
   "outputs": [
    {
     "data": {
      "text/plain": [
       "iinfo(min=-2147483648, max=2147483647, dtype=int32)"
      ]
     },
     "execution_count": 16,
     "metadata": {},
     "output_type": "execute_result"
    }
   ],
   "source": [
    "np.iinfo(np.int32)   # Bounds of a 32-bit integer"
   ]
  },
  {
   "cell_type": "code",
   "execution_count": 17,
   "id": "97daa5ca",
   "metadata": {},
   "outputs": [
    {
     "data": {
      "text/plain": [
       "iinfo(min=-9223372036854775808, max=9223372036854775807, dtype=int64)"
      ]
     },
     "execution_count": 17,
     "metadata": {},
     "output_type": "execute_result"
    }
   ],
   "source": [
    "np.iinfo(np.int64)   # Bounds of a 64-bit integer"
   ]
  },
  {
   "cell_type": "markdown",
   "id": "f531d33b",
   "metadata": {},
   "source": [
    "If 64-bit integers are still too small the result may be cast to a floating point number. Floating point numbers offer a larger, but inexact, range of possible values."
   ]
  },
  {
   "cell_type": "code",
   "execution_count": 18,
   "id": "d73a0650",
   "metadata": {},
   "outputs": [
    {
     "data": {
      "text/plain": [
       "0"
      ]
     },
     "execution_count": 18,
     "metadata": {},
     "output_type": "execute_result"
    }
   ],
   "source": [
    "np.power(100, 100, dtype = np.int64)    # Incorrect even with 64-bit int"
   ]
  },
  {
   "cell_type": "code",
   "execution_count": 19,
   "id": "cec0f2e3",
   "metadata": {},
   "outputs": [
    {
     "data": {
      "text/plain": [
       "1e+200"
      ]
     },
     "execution_count": 19,
     "metadata": {},
     "output_type": "execute_result"
    }
   ],
   "source": [
    "np.power(100, 100, dtype = np.float64)"
   ]
  },
  {
   "cell_type": "markdown",
   "id": "d4ab037a",
   "metadata": {},
   "source": [
    "### 4.4. Extended Precision\n",
    "\n",
    "Python’s floating-point numbers are usually 64-bit floating-point numbers, nearly equivalent to np.float64. In some unusual situations it may be useful to use floating-point numbers with more precision. Whether this is possible in numpy depends on the hardware and on the development environment: specifically, x86 machines provide hardware floating-point with 80-bit precision, and while most C compilers provide this as their long double type, MSVC (standard for Windows builds) makes long double identical to double (64 bits). NumPy makes the compiler’s long double available as np.longdouble (and np.clongdouble for the complex numbers). You can find out what your numpy provides with np.finfo(np.longdouble).\n",
    "\n",
    "NumPy does not provide a dtype with more precision than C’s long double; in particular, the 128-bit IEEE quad precision data type (FORTRAN’s REAL*16) is not available.\n",
    "\n",
    "For efficient memory alignment, np.longdouble is usually stored padded with zero bits, either to 96 or 128 bits. Which is more efficient depends on hardware and development environment; typically on 32-bit systems they are padded to 96 bits, while on 64-bit systems they are typically padded to 128 bits. np.longdouble is padded to the system default; np.float96 and np.float128 are provided for users who want specific padding. In spite of the names, np.float96 and np.float128 provide only as much precision as np.longdouble, that is, 80 bits on most x86 machines and 64 bits in standard Windows builds.\n",
    "\n",
    "Be warned that even if np.longdouble offers more precision than python float, it is easy to lose that extra precision, since python often forces values to pass through float. For example, the % formatting operator requires its arguments to be converted to standard python types, and it is therefore impossible to preserve extended precision even if many decimal places are requested. It can be useful to test your code with the value 1 + np.finfo(np.longdouble).eps."
   ]
  },
  {
   "cell_type": "markdown",
   "id": "856d9498",
   "metadata": {},
   "source": [
    "## 5. Broadcasting\n",
    "\n",
    "See also : numpy.broadcast\n",
    "\n",
    "The term broadcasting describes how NumPy treats arrays with different shapes during arithmetic operations. Subject to certain constraints, the smaller array is “broadcast” across the larger array so that they have compatible shapes. Broadcasting provides a means of vectorizing array operations so that looping occurs in C instead of Python. It does this without making needless copies of data and usually leads to efficient algorithm implementations. There are, however, cases where broadcasting is a bad idea because it leads to inefficient use of memory that slows computation.\n",
    "\n",
    "NumPy operations are usually done on pairs of arrays on an element-by-element basis. In the simplest case, the two arrays must have exactly the same shape, as in the following example:"
   ]
  },
  {
   "cell_type": "code",
   "execution_count": 21,
   "id": "56847e9e",
   "metadata": {},
   "outputs": [
    {
     "data": {
      "text/plain": [
       "array([2., 4., 6.])"
      ]
     },
     "execution_count": 21,
     "metadata": {},
     "output_type": "execute_result"
    }
   ],
   "source": [
    "a = np.array([1.0, 2.0, 3.0])\n",
    "b = np.array([2.0, 2.0, 2.0])\n",
    "a*b"
   ]
  },
  {
   "cell_type": "markdown",
   "id": "647c6949",
   "metadata": {},
   "source": [
    "NumPy’s broadcasting rule relaxes this constraint when the arrays’ shapes meet certain constraints. The simplest broadcasting example occurs when an array and a scalar value are combined in an operation:"
   ]
  },
  {
   "cell_type": "code",
   "execution_count": 22,
   "id": "a693c39c",
   "metadata": {},
   "outputs": [
    {
     "data": {
      "text/plain": [
       "array([2., 4., 6.])"
      ]
     },
     "execution_count": 22,
     "metadata": {},
     "output_type": "execute_result"
    }
   ],
   "source": [
    "a = np.array([1.0,2.0,3.0])\n",
    "b = 2.0\n",
    "a*b"
   ]
  },
  {
   "attachments": {
    "broadcast1.png": {
     "image/png": "[encoded data removed]"
    }
   },
   "cell_type": "markdown",
   "id": "93001c35",
   "metadata": {},
   "source": [
    "The result is equivalent to the previous example where b was an array. We can think of the scalar b being stretched during the arithmetic operation into an array with the same shape as a. The new elements in b, as shown in Figure 1, are simply copies of the original scalar. The stretching analogy is only conceptual. NumPy is smart enough to use the original scalar value without actually making copies so that broadcasting operations are as memory and computationally efficient as possible.\n",
    "\n",
    "![broadcast1.png](attachment:broadcast1.png)\n",
    "\n",
    "In the simplest example of broadcasting, the scalar b is stretched to become an array of same shape as a so the shapes are compatible for element-by-element multiplication.\n",
    "\n",
    "The code in the second example is more efficient than that in the first because broadcasting moves less memory around during the multiplication (b is a scalar rather than an array).\n",
    "\n",
    "### 5.2. General Broadcasting Rules\n",
    "\n",
    "When operating on two arrays, NumPy compares their shapes element-wise. It starts with the trailing (i.e. rightmost) dimension and works its way left. Two dimensions are compatible when\n",
    "\n",
    "1. they are equal, or\n",
    "2. one of them is 1.\n",
    "\n",
    "If these conditions are not met, a ValueError: operands could not be broadcast together exception is thrown, indicating that the arrays have incompatible shapes.\n",
    "\n",
    "Input arrays do not need to have the same number of dimensions. The resulting array will have the same number of dimensions as the input array with the greatest number of dimensions, where the size of each dimension is the largest size of the corresponding dimension among the input arrays. Note that missing dimensions are assumed to have size one.\n",
    "\n",
    "For example, if you have a 256x256x3 array of RGB values, and you want to scale each color in the image by a different value, you can multiply the image by a one-dimensional array with 3 values. Lining up the sizes of the trailing axes of these arrays according to the broadcast rules, shows that they are compatible:"
   ]
  },
  {
   "cell_type": "markdown",
   "id": "8aec0e27",
   "metadata": {},
   "source": [
    "- Image (3d array): 256 x 256 x 3\n",
    "- Scale (1d array):             3\n",
    "- Result(3d array): 256 x 256 x 3\n",
    "\n",
    "When either of the dimensions compared is one, the other is used. In other words, dimensions with size 1 are stretched or “copied” to match the other.\n",
    "\n",
    "In the following example, both the A and B arrays have axes with length one that are expanded to a larger size during the broadcast operation:\n",
    "\n",
    "- A      (4d array): 8 x 1 x 6 x 1\n",
    "- B      (3d array):     7 x 1 x 5\n",
    "- Result (4d array): 8 x 7 x 6 x 5\n",
    "\n",
    "### 5.3. Broadcastable arrays\n",
    "\n",
    "A set of arrays is called “broadcastable” to the same shape if the above rules produce a valid result.\n",
    "\n",
    "For example, if a.shape is (5,1), b.shape is (1,6), c.shape is (6,) and d.shape is () so that d is a scalar, then a, b, c, and d are all broadcastable to dimension (5,6); and\n",
    "\n",
    "- a acts like a (5,6) array where a[:,0] is broadcast to the other columns,\n",
    "- b acts like a (5,6) array where b[0,:] is broadcast to the other rows,\n",
    "- c acts like a (1,6) array and therefore like a (5,6) array where c[:] is broadcast to every row, and finally,\n",
    "- d acts like a (5,6) array where the single value is repeated.\n",
    "\n",
    "Here are some more examples:\n",
    "\n",
    "- A      (2d array):  5 x 4\n",
    "- B      (1d array):      1\n",
    "- Result (2d array):  5 x 4\n",
    "\n",
    "\n",
    "- A      (2d array):  5 x 4\n",
    "- B      (1d array):      4\n",
    "- Result (2d array):  5 x 4\n",
    "\n",
    "\n",
    "- A      (3d array):  15 x 3 x 5\n",
    "- B      (3d array):  15 x 1 x 5\n",
    "- Result (3d array):  15 x 3 x 5\n",
    "\n",
    "\n",
    "- A      (3d array):  15 x 3 x 5\n",
    "- B      (2d array):       3 x 5\n",
    "- Result (3d array):  15 x 3 x 5\n",
    "\n",
    "\n",
    "- A      (3d array):  15 x 3 x 5\n",
    "- B      (2d array):       3 x 1\n",
    "- Result (3d array):  15 x 3 x 5\n",
    "\n",
    "Here are examples of shapes that do not broadcast:\n",
    "\n",
    "- A      (1d array):  3\n",
    "- B      (1d array):  4 # trailing dimensions do not match\n",
    "\n",
    "\n",
    "- A      (2d array):      2 x 1\n",
    "- B      (3d array):  8 x 4 x 3 # second from last dimensions mismatched\n",
    "\n",
    "An example of broadcasting when a 1-d array is added to a 2-d array:"
   ]
  },
  {
   "cell_type": "code",
   "execution_count": 23,
   "id": "8808461e",
   "metadata": {},
   "outputs": [
    {
     "data": {
      "text/plain": [
       "array([[ 1.,  2.,  3.],\n",
       "       [11., 12., 13.],\n",
       "       [21., 22., 23.],\n",
       "       [31., 32., 33.]])"
      ]
     },
     "execution_count": 23,
     "metadata": {},
     "output_type": "execute_result"
    }
   ],
   "source": [
    "a = np.array([[ 0.0,  0.0,  0.0],\n",
    "              [10.0, 10.0, 10.0],\n",
    "              [20.0, 20.0, 20.0],\n",
    "              [30.0, 30.0, 30.0]])\n",
    "b = np.array([1.0, 2.0, 3.0])\n",
    "a + b"
   ]
  },
  {
   "cell_type": "code",
   "execution_count": 24,
   "id": "46808e85",
   "metadata": {},
   "outputs": [
    {
     "ename": "ValueError",
     "evalue": "operands could not be broadcast together with shapes (4,3) (4,) ",
     "output_type": "error",
     "traceback": [
      "\u001b[1;31m---------------------------------------------------------------------------\u001b[0m",
      "\u001b[1;31mValueError\u001b[0m                                Traceback (most recent call last)",
      "Cell \u001b[1;32mIn[24], line 2\u001b[0m\n\u001b[0;32m      1\u001b[0m b \u001b[38;5;241m=\u001b[39m np\u001b[38;5;241m.\u001b[39marray([\u001b[38;5;241m1.0\u001b[39m, \u001b[38;5;241m2.0\u001b[39m, \u001b[38;5;241m3.0\u001b[39m, \u001b[38;5;241m4.0\u001b[39m])\n\u001b[1;32m----> 2\u001b[0m a \u001b[38;5;241m+\u001b[39m b\n",
      "\u001b[1;31mValueError\u001b[0m: operands could not be broadcast together with shapes (4,3) (4,) "
     ]
    }
   ],
   "source": [
    "b = np.array([1.0, 2.0, 3.0, 4.0])\n",
    "a + b"
   ]
  },
  {
   "attachments": {
    "broadcast2.png": {
     "image/png": "[encoded data removed]"
    }
   },
   "cell_type": "markdown",
   "id": "100d5874",
   "metadata": {},
   "source": [
    "As shown in Figure 2, b is added to each row of a. In Figure 3, an exception is raised because of the incompatible shapes.\n",
    "\n",
    "![broadcast2.png](attachment:broadcast2.png)\n",
    "\n",
    "A one dimensional array added to a two dimensional array results in broadcasting if number of 1-d array elements matches the number of 2-d array columns."
   ]
  },
  {
   "attachments": {
    "broadcast3.png": {
     "image/png": "[encoded data removed]"
    }
   },
   "cell_type": "markdown",
   "id": "5688d21b",
   "metadata": {},
   "source": [
    "![broadcast3.png](attachment:broadcast3.png)\n",
    "\n",
    "When the trailing dimensions of the arrays are unequal, broadcasting fails because it is impossible to align the values in the rows of the 1st array with the elements of the 2nd arrays for element-by-element addition.\n",
    "\n",
    "Broadcasting provides a convenient way of taking the outer product (or any other outer operation) of two arrays. The following example shows an outer addition operation of two 1-d arrays:"
   ]
  },
  {
   "cell_type": "code",
   "execution_count": 25,
   "id": "6cb1b238",
   "metadata": {},
   "outputs": [
    {
     "data": {
      "text/plain": [
       "array([[ 1.,  2.,  3.],\n",
       "       [11., 12., 13.],\n",
       "       [21., 22., 23.],\n",
       "       [31., 32., 33.]])"
      ]
     },
     "execution_count": 25,
     "metadata": {},
     "output_type": "execute_result"
    }
   ],
   "source": [
    "a = np.array([0.0, 10.0, 20.0, 30.0])\n",
    "b = np.array([1.0, 2.0, 3.0])\n",
    "a[:, np.newaxis] + b"
   ]
  },
  {
   "attachments": {
    "broadcast4.png": {
     "image/png": "[encoded data removed]"
    }
   },
   "cell_type": "markdown",
   "id": "6c07f241",
   "metadata": {},
   "source": [
    "![broadcast4.png](attachment:broadcast4.png)\n",
    "\n",
    "In some cases, broadcasting stretches both arrays to form an output array larger than either of the initial arrays.\n",
    "\n",
    "Here the newaxis index operator inserts a new axis into a, making it a two-dimensional 4x1 array. Combining the 4x1 array with b, which has shape (3,), yields a 4x3 array.\n",
    "\n",
    "### 5.4. A Practical Example: Vector Quantization\n",
    "\n",
    "Broadcasting comes up quite often in real world problems. A typical example occurs in the vector quantization (VQ) algorithm used in information theory, classification, and other related areas. The basic operation in VQ finds the closest point in a set of points, called codes in VQ jargon, to a given point, called the observation. In the very simple, two-dimensional case shown below, the values in observation describe the weight and height of an athlete to be classified. The codes represent different classes of athletes. [1] Finding the closest point requires calculating the distance between observation and each of the codes. The shortest distance provides the best match. In this example, codes[0] is the closest class indicating that the athlete is likely a basketball player."
   ]
  },
  {
   "cell_type": "code",
   "execution_count": 26,
   "id": "44b54a75",
   "metadata": {},
   "outputs": [],
   "source": [
    "from numpy import array, argmin, sqrt, sum"
   ]
  },
  {
   "cell_type": "code",
   "execution_count": 27,
   "id": "53fae909",
   "metadata": {},
   "outputs": [
    {
     "data": {
      "text/plain": [
       "0"
      ]
     },
     "execution_count": 27,
     "metadata": {},
     "output_type": "execute_result"
    }
   ],
   "source": [
    "observation = array([111.0, 188.0])\n",
    "codes = array([[102.0, 203.0],\n",
    "              [132.0, 193.0],\n",
    "              [45.0, 155.0],\n",
    "              [57.0, 173.0]])\n",
    "\n",
    "diff = codes - observation   # the broadcast happens here\n",
    "dist = sqrt(sum(diff**2, axis = -1))\n",
    "argmin(dist)"
   ]
  },
  {
   "attachments": {
    "broadcast5.png": {
     "image/png": "[encoded data removed]"
    }
   },
   "cell_type": "markdown",
   "id": "b2388042",
   "metadata": {},
   "source": [
    "In this example, the observation array is stretched to match the shape of the codes array:\n",
    "\n",
    "- Observation      (1d array):      2\n",
    "- Codes            (2d array):  4 x 2\n",
    "- Diff             (2d array):  4 x 2\n",
    "\n",
    "\n",
    "![broadcast5.png](attachment:broadcast5.png)\n",
    "\n",
    "The basic operation of vector quantization calculates the distance between an object to be classified, the dark square, and multiple known codes, the gray circles. In this simple case, the codes represent individual classes. More complex cases use multiple codes per class.\n",
    "\n",
    "Typically, a large number of observations, perhaps read from a database, are compared to a set of codes. Consider this scenario:\n",
    "\n",
    "- Observation      (2d array):      10 x 3\n",
    "- Codes            (3d array):   5 x 1 x 3\n",
    "- Diff             (3d array):  5 x 10 x 3\n",
    "\n",
    "The three-dimensional array, diff, is a consequence of broadcasting, not a necessity for the calculation. Large data sets will generate a large intermediate array that is computationally inefficient. Instead, if each observation is calculated individually using a Python loop around the code in the two-dimensional example above, a much smaller array is used.\n",
    "\n",
    "Broadcasting is a powerful tool for writing short and usually intuitive code that does its computations very efficiently in C. However, there are cases when broadcasting uses unnecessarily large amounts of memory for a particular algorithm. In these cases, it is better to write the algorithm’s outer loop in Python. This may also produce more readable code, as algorithms that use broadcasting tend to become more difficult to interpret as the number of dimensions in the broadcast increases.\n",
    "\n",
    "Footnotes\n",
    "\n",
    "[1]\n",
    "In this example, weight has more impact on the distance calculation than height because of the larger values. In practice, it is important to normalize the height and weight, often by their standard deviation across the data set, so that both have equal influence on the distance calculation."
   ]
  },
  {
   "cell_type": "markdown",
   "id": "856f0e8b",
   "metadata": {},
   "source": [
    "## 6. Copies and Views\n",
    "\n",
    "When operating on NumPy arrays, it is possible to access the internal data buffer directly using a view without copying data around. This ensures good performance but can also cause unwanted problems if the user is not aware of how this works. Hence, it is important to know the difference between these two terms and to know which operations return copies and which return views.\n",
    "\n",
    "The NumPy array is a data structure consisting of two parts: the contiguous data buffer with the actual data elements and the metadata that contains information about the data buffer. The metadata includes data type, strides, and other important information that helps manipulate the ndarray easily. See the Internal organization of NumPy arrays section for a detailed look.\n",
    "\n",
    "### 6.1. View\n",
    "\n",
    "It is possible to access the array differently by just changing certain metadata like stride and dtype without changing the data buffer. This creates a new way of looking at the data and these new arrays are called views. The data buffer remains the same, so any changes made to a view reflects in the original copy. A view can be forced through the ndarray.view method.\n",
    "\n",
    "### 6.2. Copy\n",
    "\n",
    "When a new array is created by duplicating the data buffer as well as the metadata, it is called a copy. Changes made to the copy do not reflect on the original array. Making a copy is slower and memory-consuming but sometimes necessary. A copy can be forced by using ndarray.copy.\n",
    "\n",
    "### 6.3. Indexing operations\n",
    "\n",
    "See also : indexing on ndarrays\n",
    "\n",
    "Views are created when elements can be addressed with offsets and strides in the original array. Hence, basic indexing always creates views. For example:"
   ]
  },
  {
   "cell_type": "code",
   "execution_count": 28,
   "id": "e4e0272b",
   "metadata": {},
   "outputs": [
    {
     "data": {
      "text/plain": [
       "array([0, 1, 2, 3, 4, 5, 6, 7, 8, 9])"
      ]
     },
     "execution_count": 28,
     "metadata": {},
     "output_type": "execute_result"
    }
   ],
   "source": [
    "x = np.arange(10)\n",
    "x"
   ]
  },
  {
   "cell_type": "code",
   "execution_count": 29,
   "id": "cc15970e",
   "metadata": {},
   "outputs": [
    {
     "data": {
      "text/plain": [
       "array([1, 2])"
      ]
     },
     "execution_count": 29,
     "metadata": {},
     "output_type": "execute_result"
    }
   ],
   "source": [
    "y = x[1:3]    # creates a view\n",
    "y"
   ]
  },
  {
   "cell_type": "code",
   "execution_count": 30,
   "id": "06df021d",
   "metadata": {},
   "outputs": [
    {
     "data": {
      "text/plain": [
       "array([ 0, 10, 11,  3,  4,  5,  6,  7,  8,  9])"
      ]
     },
     "execution_count": 30,
     "metadata": {},
     "output_type": "execute_result"
    }
   ],
   "source": [
    "x[1:3] = [10,11]\n",
    "x"
   ]
  },
  {
   "cell_type": "code",
   "execution_count": 31,
   "id": "86a18e71",
   "metadata": {},
   "outputs": [
    {
     "data": {
      "text/plain": [
       "array([10, 11])"
      ]
     },
     "execution_count": 31,
     "metadata": {},
     "output_type": "execute_result"
    }
   ],
   "source": [
    "y"
   ]
  },
  {
   "cell_type": "markdown",
   "id": "43ccbccb",
   "metadata": {},
   "source": [
    "Here, y gets changed when x is changed because it is a view.\n",
    "\n",
    "Advanced indexing, on the other hand, always creates copies. For example:"
   ]
  },
  {
   "cell_type": "code",
   "execution_count": 32,
   "id": "ec8881d8",
   "metadata": {},
   "outputs": [
    {
     "data": {
      "text/plain": [
       "array([[0, 1, 2],\n",
       "       [3, 4, 5],\n",
       "       [6, 7, 8]])"
      ]
     },
     "execution_count": 32,
     "metadata": {},
     "output_type": "execute_result"
    }
   ],
   "source": [
    "x = np.arange(9).reshape(3,3)\n",
    "x"
   ]
  },
  {
   "cell_type": "code",
   "execution_count": 34,
   "id": "0e48aed2",
   "metadata": {},
   "outputs": [
    {
     "data": {
      "text/plain": [
       "array([[3, 4, 5],\n",
       "       [6, 7, 8]])"
      ]
     },
     "execution_count": 34,
     "metadata": {},
     "output_type": "execute_result"
    }
   ],
   "source": [
    "y = x[[1,2]]\n",
    "y"
   ]
  },
  {
   "cell_type": "code",
   "execution_count": 35,
   "id": "f7fe51e8",
   "metadata": {},
   "outputs": [
    {
     "data": {
      "text/plain": [
       "True"
      ]
     },
     "execution_count": 35,
     "metadata": {},
     "output_type": "execute_result"
    }
   ],
   "source": [
    "y.base is None"
   ]
  },
  {
   "cell_type": "markdown",
   "id": "e854de7d",
   "metadata": {},
   "source": [
    "Here, y is a copy, as signified by the base attribute. We can also confirm this by assigning new values to x[[1, 2]] which in turn will not affect y at all:"
   ]
  },
  {
   "cell_type": "code",
   "execution_count": 36,
   "id": "cbfefb50",
   "metadata": {},
   "outputs": [
    {
     "data": {
      "text/plain": [
       "array([[ 0,  1,  2],\n",
       "       [10, 11, 12],\n",
       "       [13, 14, 15]])"
      ]
     },
     "execution_count": 36,
     "metadata": {},
     "output_type": "execute_result"
    }
   ],
   "source": [
    "x[[1,2]] = [[10,11,12], [13,14,15]]\n",
    "x"
   ]
  },
  {
   "cell_type": "code",
   "execution_count": 37,
   "id": "c8426002",
   "metadata": {},
   "outputs": [
    {
     "data": {
      "text/plain": [
       "array([[3, 4, 5],\n",
       "       [6, 7, 8]])"
      ]
     },
     "execution_count": 37,
     "metadata": {},
     "output_type": "execute_result"
    }
   ],
   "source": [
    "y"
   ]
  },
  {
   "cell_type": "markdown",
   "id": "e4d5ffa0",
   "metadata": {},
   "source": [
    "It must be noted here that during the assignment of x[[1, 2]] no view or copy is created as the assignment happens in-place.\n",
    "\n",
    "### 6.4. Other operations\n",
    "\n",
    "The numpy.reshape function creates a view where possible or a copy otherwise. In most cases, the strides can be modified to reshape the array with a view. However, in some cases where the array becomes non-contiguous (perhaps after a ndarray.transpose operation), the reshaping cannot be done by modifying strides and requires a copy. In these cases, we can raise an error by assigning the new shape to the shape attribute of the array. For example:"
   ]
  },
  {
   "cell_type": "code",
   "execution_count": 38,
   "id": "4f1dd42c",
   "metadata": {},
   "outputs": [
    {
     "data": {
      "text/plain": [
       "array([[1., 1.],\n",
       "       [1., 1.],\n",
       "       [1., 1.]])"
      ]
     },
     "execution_count": 38,
     "metadata": {},
     "output_type": "execute_result"
    }
   ],
   "source": [
    "x = np.ones((2,3))\n",
    "y = x.T   # makes the array non-comtiguous\n",
    "y"
   ]
  },
  {
   "cell_type": "code",
   "execution_count": 39,
   "id": "1928d7d2",
   "metadata": {},
   "outputs": [
    {
     "ename": "AttributeError",
     "evalue": "Incompatible shape for in-place modification. Use `.reshape()` to make a copy with the desired shape.",
     "output_type": "error",
     "traceback": [
      "\u001b[1;31m---------------------------------------------------------------------------\u001b[0m",
      "\u001b[1;31mAttributeError\u001b[0m                            Traceback (most recent call last)",
      "Cell \u001b[1;32mIn[39], line 2\u001b[0m\n\u001b[0;32m      1\u001b[0m z \u001b[38;5;241m=\u001b[39m y\u001b[38;5;241m.\u001b[39mview()\n\u001b[1;32m----> 2\u001b[0m z\u001b[38;5;241m.\u001b[39mshape \u001b[38;5;241m=\u001b[39m \u001b[38;5;241m6\u001b[39m\n",
      "\u001b[1;31mAttributeError\u001b[0m: Incompatible shape for in-place modification. Use `.reshape()` to make a copy with the desired shape."
     ]
    }
   ],
   "source": [
    "z = y.view()\n",
    "z.shape = 6"
   ]
  },
  {
   "cell_type": "markdown",
   "id": "e5f76436",
   "metadata": {},
   "source": [
    "Taking the example of another operation, ravel returns a contiguous flattened view of the array wherever possible. On the other hand, ndarray.flatten always returns a flattened copy of the array. However, to guarantee a view in most cases, x.reshape(-1) may be preferable.\n",
    "\n",
    "### 6.5. How to tell if the array is a view or a copy\n",
    "\n",
    "The base attribute of the ndarray makes it easy to tell if an array is a view or a copy. The base attribute of a view returns the original array while it returns None for a copy."
   ]
  },
  {
   "cell_type": "code",
   "execution_count": 40,
   "id": "511db845",
   "metadata": {},
   "outputs": [
    {
     "data": {
      "text/plain": [
       "array([0, 1, 2, 3, 4, 5, 6, 7, 8])"
      ]
     },
     "execution_count": 40,
     "metadata": {},
     "output_type": "execute_result"
    }
   ],
   "source": [
    "x = np.arange(9)\n",
    "x"
   ]
  },
  {
   "cell_type": "code",
   "execution_count": 41,
   "id": "5ea38c52",
   "metadata": {},
   "outputs": [
    {
     "data": {
      "text/plain": [
       "array([[0, 1, 2],\n",
       "       [3, 4, 5],\n",
       "       [6, 7, 8]])"
      ]
     },
     "execution_count": 41,
     "metadata": {},
     "output_type": "execute_result"
    }
   ],
   "source": [
    "y = x.reshape(3,3)\n",
    "y"
   ]
  },
  {
   "cell_type": "code",
   "execution_count": 42,
   "id": "d3d444c1",
   "metadata": {},
   "outputs": [
    {
     "data": {
      "text/plain": [
       "array([0, 1, 2, 3, 4, 5, 6, 7, 8])"
      ]
     },
     "execution_count": 42,
     "metadata": {},
     "output_type": "execute_result"
    }
   ],
   "source": [
    "y.base    # .reshape() creates a view"
   ]
  },
  {
   "cell_type": "code",
   "execution_count": 43,
   "id": "ef50342d",
   "metadata": {},
   "outputs": [
    {
     "data": {
      "text/plain": [
       "array([[6, 7, 8],\n",
       "       [3, 4, 5]])"
      ]
     },
     "execution_count": 43,
     "metadata": {},
     "output_type": "execute_result"
    }
   ],
   "source": [
    "z = y[[2,1]]\n",
    "z"
   ]
  },
  {
   "cell_type": "code",
   "execution_count": 44,
   "id": "153652c6",
   "metadata": {},
   "outputs": [
    {
     "data": {
      "text/plain": [
       "True"
      ]
     },
     "execution_count": 44,
     "metadata": {},
     "output_type": "execute_result"
    }
   ],
   "source": [
    "z.base is None    # advanced indexing creates a copy"
   ]
  },
  {
   "cell_type": "markdown",
   "id": "8359344c",
   "metadata": {},
   "source": [
    "Note that the base attribute should not be used to determine if an ndarray object is new; only if it is a view or a copy of another ndarray."
   ]
  },
  {
   "cell_type": "code",
   "execution_count": null,
   "id": "0fc05717",
   "metadata": {},
   "outputs": [],
   "source": []
  }
 ],
 "metadata": {
  "kernelspec": {
   "display_name": "Python 3 (ipykernel)",
   "language": "python",
   "name": "python3"
  },
  "language_info": {
   "codemirror_mode": {
    "name": "ipython",
    "version": 3
   },
   "file_extension": ".py",
   "mimetype": "text/x-python",
   "name": "python",
   "nbconvert_exporter": "python",
   "pygments_lexer": "ipython3",
   "version": "3.11.5"
  }
 },
 "nbformat": 4,
 "nbformat_minor": 5
}
